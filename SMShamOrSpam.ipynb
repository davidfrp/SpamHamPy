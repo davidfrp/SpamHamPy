{
  "cells": [
    {
      "cell_type": "code",
      "execution_count": 11,
      "metadata": {
        "id": "10o2v-QvJjZ7"
      },
      "outputs": [],
      "source": [
        "import pandas as pd"
      ]
    },
    {
      "cell_type": "code",
      "execution_count": 12,
      "metadata": {
        "id": "CFe2J-yvVWnz"
      },
      "outputs": [],
      "source": [
        "#Cleaned data, removed \"\", changed separator\n",
        "#should try with thi instead: engine=\"python\", sep=',', quotechar='\"', error_bad_lines=False)"
      ]
    },
    {
      "cell_type": "code",
      "execution_count": 13,
      "metadata": {
        "id": "6XL6r4eMJ_Zw"
      },
      "outputs": [],
      "source": [
        "df = pd.read_csv('SMSSpamCollection.csv', sep='¤', engine='python')"
      ]
    },
    {
      "cell_type": "code",
      "execution_count": 14,
      "metadata": {
        "colab": {
          "base_uri": "https://localhost:8080/",
          "height": 206
        },
        "id": "jkPKIMT7KDjy",
        "outputId": "cec3a42f-d9c0-4dd8-b59b-fa9d4dcf5c5b"
      },
      "outputs": [
        {
          "data": {
            "text/html": [
              "<div>\n",
              "<style scoped>\n",
              "    .dataframe tbody tr th:only-of-type {\n",
              "        vertical-align: middle;\n",
              "    }\n",
              "\n",
              "    .dataframe tbody tr th {\n",
              "        vertical-align: top;\n",
              "    }\n",
              "\n",
              "    .dataframe thead th {\n",
              "        text-align: right;\n",
              "    }\n",
              "</style>\n",
              "<table border=\"1\" class=\"dataframe\">\n",
              "  <thead>\n",
              "    <tr style=\"text-align: right;\">\n",
              "      <th></th>\n",
              "      <th>CATEGORY</th>\n",
              "      <th>SMS</th>\n",
              "    </tr>\n",
              "  </thead>\n",
              "  <tbody>\n",
              "    <tr>\n",
              "      <th>0</th>\n",
              "      <td>ham</td>\n",
              "      <td>Go until jurong point, crazy.. Available only ...</td>\n",
              "    </tr>\n",
              "    <tr>\n",
              "      <th>1</th>\n",
              "      <td>ham</td>\n",
              "      <td>Ok lar... Joking wif u oni...</td>\n",
              "    </tr>\n",
              "    <tr>\n",
              "      <th>2</th>\n",
              "      <td>spam</td>\n",
              "      <td>Free entry in 2 a wkly comp to win FA Cup fina...</td>\n",
              "    </tr>\n",
              "    <tr>\n",
              "      <th>3</th>\n",
              "      <td>ham</td>\n",
              "      <td>U dun say so early hor... U c already then say...</td>\n",
              "    </tr>\n",
              "    <tr>\n",
              "      <th>4</th>\n",
              "      <td>ham</td>\n",
              "      <td>Nah I don't think he goes to usf, he lives aro...</td>\n",
              "    </tr>\n",
              "  </tbody>\n",
              "</table>\n",
              "</div>"
            ],
            "text/plain": [
              "  CATEGORY                                                SMS\n",
              "0      ham  Go until jurong point, crazy.. Available only ...\n",
              "1      ham                      Ok lar... Joking wif u oni...\n",
              "2     spam  Free entry in 2 a wkly comp to win FA Cup fina...\n",
              "3      ham  U dun say so early hor... U c already then say...\n",
              "4      ham  Nah I don't think he goes to usf, he lives aro..."
            ]
          },
          "execution_count": 14,
          "metadata": {},
          "output_type": "execute_result"
        }
      ],
      "source": [
        "df.head()"
      ]
    },
    {
      "cell_type": "code",
      "execution_count": 15,
      "metadata": {
        "colab": {
          "base_uri": "https://localhost:8080/",
          "height": 927
        },
        "id": "tVRWlPrYVDr7",
        "outputId": "f5059039-445e-4cfe-b882-020424a335bb"
      },
      "outputs": [
        {
          "data": {
            "text/html": [
              "<div>\n",
              "<style scoped>\n",
              "    .dataframe tbody tr th:only-of-type {\n",
              "        vertical-align: middle;\n",
              "    }\n",
              "\n",
              "    .dataframe tbody tr th {\n",
              "        vertical-align: top;\n",
              "    }\n",
              "\n",
              "    .dataframe thead th {\n",
              "        text-align: right;\n",
              "    }\n",
              "</style>\n",
              "<table border=\"1\" class=\"dataframe\">\n",
              "  <thead>\n",
              "    <tr style=\"text-align: right;\">\n",
              "      <th></th>\n",
              "      <th>CATEGORY</th>\n",
              "      <th>SMS</th>\n",
              "    </tr>\n",
              "  </thead>\n",
              "  <tbody>\n",
              "    <tr>\n",
              "      <th>222</th>\n",
              "      <td>ham</td>\n",
              "      <td>There is os called ubandu which will run witho...</td>\n",
              "    </tr>\n",
              "    <tr>\n",
              "      <th>223</th>\n",
              "      <td>ham</td>\n",
              "      <td>Sorry, I'll call later</td>\n",
              "    </tr>\n",
              "    <tr>\n",
              "      <th>224</th>\n",
              "      <td>ham</td>\n",
              "      <td>U say leh... Of course nothing happen lar. Not...</td>\n",
              "    </tr>\n",
              "    <tr>\n",
              "      <th>225</th>\n",
              "      <td>spam</td>\n",
              "      <td>500 New Mobiles from 2004, MUST GO! Txt: NOKIA...</td>\n",
              "    </tr>\n",
              "    <tr>\n",
              "      <th>226</th>\n",
              "      <td>ham</td>\n",
              "      <td>Would really appreciate if you call me. Just n...</td>\n",
              "    </tr>\n",
              "    <tr>\n",
              "      <th>227</th>\n",
              "      <td>spam</td>\n",
              "      <td>Will u meet ur dream partner soon? Is ur caree...</td>\n",
              "    </tr>\n",
              "    <tr>\n",
              "      <th>228</th>\n",
              "      <td>ham</td>\n",
              "      <td>Hey company elama po mudyadhu.</td>\n",
              "    </tr>\n",
              "    <tr>\n",
              "      <th>229</th>\n",
              "      <td>ham</td>\n",
              "      <td>Life is more strict than teacher... Bcoz Teach...</td>\n",
              "    </tr>\n",
              "    <tr>\n",
              "      <th>230</th>\n",
              "      <td>ham</td>\n",
              "      <td>Dear good morning now only i am up</td>\n",
              "    </tr>\n",
              "    <tr>\n",
              "      <th>231</th>\n",
              "      <td>ham</td>\n",
              "      <td>Get down in gandhipuram and walk to cross cut ...</td>\n",
              "    </tr>\n",
              "    <tr>\n",
              "      <th>232</th>\n",
              "      <td>ham</td>\n",
              "      <td>Dear we are going to our rubber place</td>\n",
              "    </tr>\n",
              "    <tr>\n",
              "      <th>233</th>\n",
              "      <td>ham</td>\n",
              "      <td>Sorry battery died, yeah I'm here</td>\n",
              "    </tr>\n",
              "    <tr>\n",
              "      <th>234</th>\n",
              "      <td>ham</td>\n",
              "      <td>Yes:)here tv is always available in work place..</td>\n",
              "    </tr>\n",
              "    <tr>\n",
              "      <th>235</th>\n",
              "      <td>spam</td>\n",
              "      <td>Text &amp; meet someone sexy today. U can find a d...</td>\n",
              "    </tr>\n",
              "    <tr>\n",
              "      <th>236</th>\n",
              "      <td>ham</td>\n",
              "      <td>I have printed it oh. So  &amp;lt;#&amp;gt;  come upst...</td>\n",
              "    </tr>\n",
              "    <tr>\n",
              "      <th>237</th>\n",
              "      <td>ham</td>\n",
              "      <td>Or ill be a little closer like at the bus stop...</td>\n",
              "    </tr>\n",
              "    <tr>\n",
              "      <th>238</th>\n",
              "      <td>ham</td>\n",
              "      <td>Where are you?when wil you reach here?</td>\n",
              "    </tr>\n",
              "    <tr>\n",
              "      <th>239</th>\n",
              "      <td>ham</td>\n",
              "      <td>New Theory: Argument wins d SITUATION, but los...</td>\n",
              "    </tr>\n",
              "    <tr>\n",
              "      <th>240</th>\n",
              "      <td>spam</td>\n",
              "      <td>U 447801259231 have a secret admirer who is lo...</td>\n",
              "    </tr>\n",
              "    <tr>\n",
              "      <th>241</th>\n",
              "      <td>ham</td>\n",
              "      <td>Tomarrow final hearing on my laptop case so i ...</td>\n",
              "    </tr>\n",
              "    <tr>\n",
              "      <th>242</th>\n",
              "      <td>ham</td>\n",
              "      <td>PLEASSSSSSSEEEEEE TEL ME V AVENT DONE SPORTSx</td>\n",
              "    </tr>\n",
              "    <tr>\n",
              "      <th>243</th>\n",
              "      <td>ham</td>\n",
              "      <td>Okay. No no, just shining on. That was meant t...</td>\n",
              "    </tr>\n",
              "    <tr>\n",
              "      <th>244</th>\n",
              "      <td>ham</td>\n",
              "      <td>Although i told u dat i'm into baig face watch...</td>\n",
              "    </tr>\n",
              "    <tr>\n",
              "      <th>245</th>\n",
              "      <td>ham</td>\n",
              "      <td>U don't remember that old commercial?</td>\n",
              "    </tr>\n",
              "    <tr>\n",
              "      <th>246</th>\n",
              "      <td>ham</td>\n",
              "      <td>Too late. I said i have the website. I didn't ...</td>\n",
              "    </tr>\n",
              "    <tr>\n",
              "      <th>247</th>\n",
              "      <td>ham</td>\n",
              "      <td>I asked you to call him now ok</td>\n",
              "    </tr>\n",
              "    <tr>\n",
              "      <th>248</th>\n",
              "      <td>ham</td>\n",
              "      <td>Kallis wont bat in 2nd innings.</td>\n",
              "    </tr>\n",
              "    <tr>\n",
              "      <th>249</th>\n",
              "      <td>ham</td>\n",
              "      <td>It didnt work again oh. Ok goodnight then. I.l...</td>\n",
              "    </tr>\n",
              "  </tbody>\n",
              "</table>\n",
              "</div>"
            ],
            "text/plain": [
              "    CATEGORY                                                SMS\n",
              "222      ham  There is os called ubandu which will run witho...\n",
              "223      ham                             Sorry, I'll call later\n",
              "224      ham  U say leh... Of course nothing happen lar. Not...\n",
              "225     spam  500 New Mobiles from 2004, MUST GO! Txt: NOKIA...\n",
              "226      ham  Would really appreciate if you call me. Just n...\n",
              "227     spam  Will u meet ur dream partner soon? Is ur caree...\n",
              "228      ham                     Hey company elama po mudyadhu.\n",
              "229      ham  Life is more strict than teacher... Bcoz Teach...\n",
              "230      ham                 Dear good morning now only i am up\n",
              "231      ham  Get down in gandhipuram and walk to cross cut ...\n",
              "232      ham              Dear we are going to our rubber place\n",
              "233      ham                  Sorry battery died, yeah I'm here\n",
              "234      ham   Yes:)here tv is always available in work place..\n",
              "235     spam  Text & meet someone sexy today. U can find a d...\n",
              "236      ham  I have printed it oh. So  &lt;#&gt;  come upst...\n",
              "237      ham  Or ill be a little closer like at the bus stop...\n",
              "238      ham             Where are you?when wil you reach here?\n",
              "239      ham  New Theory: Argument wins d SITUATION, but los...\n",
              "240     spam  U 447801259231 have a secret admirer who is lo...\n",
              "241      ham  Tomarrow final hearing on my laptop case so i ...\n",
              "242      ham      PLEASSSSSSSEEEEEE TEL ME V AVENT DONE SPORTSx\n",
              "243      ham  Okay. No no, just shining on. That was meant t...\n",
              "244      ham  Although i told u dat i'm into baig face watch...\n",
              "245      ham              U don't remember that old commercial?\n",
              "246      ham  Too late. I said i have the website. I didn't ...\n",
              "247      ham                     I asked you to call him now ok\n",
              "248      ham                    Kallis wont bat in 2nd innings.\n",
              "249      ham  It didnt work again oh. Ok goodnight then. I.l..."
            ]
          },
          "execution_count": 15,
          "metadata": {},
          "output_type": "execute_result"
        }
      ],
      "source": [
        "df[222:250]"
      ]
    },
    {
      "cell_type": "code",
      "execution_count": 16,
      "metadata": {
        "colab": {
          "base_uri": "https://localhost:8080/"
        },
        "id": "kLos1LZbXDUw",
        "outputId": "b818ee9c-358a-404d-bac2-4bf141b08eb0"
      },
      "outputs": [
        {
          "name": "stdout",
          "output_type": "stream",
          "text": [
            "NR OF SAMPLES: 5574\n"
          ]
        }
      ],
      "source": [
        "print('NR OF SAMPLES:', len(df))"
      ]
    },
    {
      "cell_type": "code",
      "execution_count": 17,
      "metadata": {
        "id": "FxdIJejHXco6"
      },
      "outputs": [],
      "source": [
        "#check for empty values ....   \n",
        "#df.isnull().sum()\n",
        "#df.info()\n",
        "# - invalid values?\n",
        "#df.dropna(inplace=True)  # will remove rows with NA"
      ]
    },
    {
      "cell_type": "code",
      "execution_count": 18,
      "metadata": {
        "id": "CRDFIiiPYdPR"
      },
      "outputs": [],
      "source": [
        "X = df['SMS']\n",
        "y = df['CATEGORY']"
      ]
    },
    {
      "cell_type": "code",
      "execution_count": 19,
      "metadata": {
        "colab": {
          "base_uri": "https://localhost:8080/"
        },
        "id": "7b4IaBNcgSe8",
        "outputId": "683e1575-ed2c-40ec-e86e-3d95f6d29a1e"
      },
      "outputs": [
        {
          "data": {
            "text/plain": [
              "array(['ham', 'spam', 'spam '], dtype=object)"
            ]
          },
          "execution_count": 19,
          "metadata": {},
          "output_type": "execute_result"
        }
      ],
      "source": [
        "y.unique()"
      ]
    },
    {
      "cell_type": "code",
      "execution_count": 20,
      "metadata": {
        "colab": {
          "base_uri": "https://localhost:8080/"
        },
        "id": "Kzv6qWlcgX_g",
        "outputId": "c4fd26dc-8a2b-449a-9042-7008d3f5ca02"
      },
      "outputs": [
        {
          "data": {
            "text/plain": [
              "array(['ham', 'spam'], dtype=object)"
            ]
          },
          "execution_count": 20,
          "metadata": {},
          "output_type": "execute_result"
        }
      ],
      "source": [
        "y = y.str.strip()\n",
        "y.unique()"
      ]
    },
    {
      "cell_type": "code",
      "execution_count": 21,
      "metadata": {
        "colab": {
          "base_uri": "https://localhost:8080/"
        },
        "id": "1Gx5_9klY_us",
        "outputId": "f13767c1-273e-4e0b-f2b3-9c28f249adfa"
      },
      "outputs": [
        {
          "data": {
            "text/plain": [
              "0    0\n",
              "1    0\n",
              "2    1\n",
              "3    0\n",
              "4    0\n",
              "Name: CATEGORY, dtype: object"
            ]
          },
          "execution_count": 21,
          "metadata": {},
          "output_type": "execute_result"
        }
      ],
      "source": [
        "y[y == 'spam'] = 1\n",
        "y[y == 'ham'] = 0\n",
        "y[:5]"
      ]
    },
    {
      "cell_type": "code",
      "execution_count": 22,
      "metadata": {
        "id": "iRVq1gbLfk07"
      },
      "outputs": [],
      "source": [
        "import numpy as np\n",
        "y = np.asarray(y).astype(int)"
      ]
    },
    {
      "cell_type": "code",
      "execution_count": 23,
      "metadata": {
        "colab": {
          "base_uri": "https://localhost:8080/"
        },
        "id": "28eg4ClaarQT",
        "outputId": "e7eb320c-0f00-4ca0-91a4-c00e39a8a812"
      },
      "outputs": [
        {
          "name": "stdout",
          "output_type": "stream",
          "text": [
            "***** Nr of characters the longest content is:  910\n"
          ]
        }
      ],
      "source": [
        "print('***** Nr of characters the longest content is: ',\n",
        "max([len(x) for x in X]))"
      ]
    },
    {
      "cell_type": "code",
      "execution_count": 24,
      "metadata": {
        "id": "IzfWFU5scuVp"
      },
      "outputs": [],
      "source": [
        "#TRY TO VISUALIZE THE DATA ! ! !"
      ]
    },
    {
      "cell_type": "code",
      "execution_count": 25,
      "metadata": {
        "colab": {
          "base_uri": "https://localhost:8080/"
        },
        "id": "r_dzy1TMcyAK",
        "outputId": "53a3954c-ab1b-4b22-c64b-f6929a5a4ed6"
      },
      "outputs": [
        {
          "data": {
            "text/plain": [
              "9009"
            ]
          },
          "execution_count": 25,
          "metadata": {},
          "output_type": "execute_result"
        }
      ],
      "source": [
        "from tensorflow.keras.preprocessing.text import Tokenizer\n",
        "\n",
        "tokenizer = Tokenizer()\n",
        "tokenizer.fit_on_texts(X)\n",
        "total_words = len(tokenizer.word_index) + 1\n",
        "total_words"
      ]
    },
    {
      "cell_type": "code",
      "execution_count": 26,
      "metadata": {
        "id": "NVKfw8yb67H3"
      },
      "outputs": [],
      "source": [
        "import pickle\n",
        "\n",
        "# saving\n",
        "with open('tokenizer.pickle', 'wb') as handle:\n",
        "    pickle.dump(tokenizer, handle, protocol=pickle.HIGHEST_PROTOCOL)"
      ]
    },
    {
      "cell_type": "code",
      "execution_count": 27,
      "metadata": {
        "colab": {
          "base_uri": "https://localhost:8080/"
        },
        "id": "nF9TzofkdMt9",
        "outputId": "9769d3f4-affe-40f7-a13f-2f9550487130"
      },
      "outputs": [
        {
          "data": {
            "text/plain": [
              "[[49,\n",
              "  471,\n",
              "  4434,\n",
              "  842,\n",
              "  755,\n",
              "  658,\n",
              "  64,\n",
              "  8,\n",
              "  1327,\n",
              "  88,\n",
              "  123,\n",
              "  351,\n",
              "  1328,\n",
              "  148,\n",
              "  2996,\n",
              "  1329,\n",
              "  67,\n",
              "  58,\n",
              "  4435,\n",
              "  144],\n",
              " [46, 336, 1499, 472, 6, 1940],\n",
              " [47,\n",
              "  489,\n",
              "  8,\n",
              "  19,\n",
              "  4,\n",
              "  797,\n",
              "  901,\n",
              "  2,\n",
              "  176,\n",
              "  1941,\n",
              "  1105,\n",
              "  659,\n",
              "  1942,\n",
              "  2331,\n",
              "  261,\n",
              "  2332,\n",
              "  71,\n",
              "  1941,\n",
              "  2,\n",
              "  1943,\n",
              "  2,\n",
              "  337,\n",
              "  489,\n",
              "  555,\n",
              "  960,\n",
              "  73,\n",
              "  391,\n",
              "  174,\n",
              "  660,\n",
              "  392,\n",
              "  2997]]"
            ]
          },
          "execution_count": 27,
          "metadata": {},
          "output_type": "execute_result"
        }
      ],
      "source": [
        "X = tokenizer.texts_to_sequences(X)\n",
        "X[:3]"
      ]
    },
    {
      "cell_type": "code",
      "execution_count": 28,
      "metadata": {
        "colab": {
          "base_uri": "https://localhost:8080/"
        },
        "id": "MYulbAbsdgQt",
        "outputId": "e09c74c6-d8a2-40e9-cc2a-e890f08e4c86"
      },
      "outputs": [
        {
          "name": "stdout",
          "output_type": "stream",
          "text": [
            "*****Max words in SMS: 189\n"
          ]
        },
        {
          "data": {
            "text/plain": [
              "array([   0,    0,    0,    0,    0,    0,    0,    0,    0,    0,    0,\n",
              "          0,    0,    0,    0,    0,    0,    0,    0,    0,    0,    0,\n",
              "          0,    0,    0,    0,    0,    0,    0,    0,    0,    0,    0,\n",
              "          0,    0,    0,    0,    0,    0,    0,    0,    0,    0,    0,\n",
              "          0,    0,    0,    0,    0,    0,    0,    0,    0,    0,    0,\n",
              "          0,    0,    0,    0,    0,    0,    0,    0,    0,    0,    0,\n",
              "          0,    0,    0,   47,  489,    8,   19,    4,  797,  901,    2,\n",
              "        176, 1941, 1105,  659, 1942, 2331,  261, 2332,   71, 1941,    2,\n",
              "       1943,    2,  337,  489,  555,  960,   73,  391,  174,  660,  392,\n",
              "       2997])"
            ]
          },
          "execution_count": 28,
          "metadata": {},
          "output_type": "execute_result"
        }
      ],
      "source": [
        "# pad content based on the longest SMS...\n",
        "max_SMS_len = max(len(x) for x in X)\n",
        "print('*****Max words in SMS:', max_SMS_len)\n",
        "\n",
        "from tensorflow.keras.preprocessing.sequence import pad_sequences\n",
        "X = pad_sequences(X, maxlen=100)\n",
        "X[2]"
      ]
    },
    {
      "cell_type": "code",
      "execution_count": 30,
      "metadata": {
        "colab": {
          "base_uri": "https://localhost:8080/"
        },
        "id": "Jn1pVTA0dvaJ",
        "outputId": "920b42ea-bcf6-4c7d-f707-fe3147ececc5"
      },
      "outputs": [
        {
          "name": "stdout",
          "output_type": "stream",
          "text": [
            "***** Shape of training samples:  (4459, 100)\n",
            "***** Shape of testing samples:  (1115, 100)\n"
          ]
        }
      ],
      "source": [
        "from sklearn.model_selection import train_test_split\n",
        "X_train, X_test, y_train, y_test = train_test_split(X, y, test_size = 0.2, random_state = 22)\n",
        "print('***** Shape of training samples: ', X_train.shape)\n",
        "print('***** Shape of testing samples: ', X_test.shape)"
      ]
    },
    {
      "cell_type": "code",
      "execution_count": 31,
      "metadata": {
        "id": "E84s1sy0d0b9"
      },
      "outputs": [],
      "source": [
        "from tensorflow.keras.layers import Embedding, LSTM, Dense\n",
        "from tensorflow.keras.models import Sequential\n",
        "from tensorflow.keras.optimizers import Adam\n",
        "\n",
        "model = Sequential()\n",
        "model.add(Embedding(9009, 128)) # 48998 distinct words, 128 neurons (columns in Excel)\n",
        "# model.add(LSTM(128, dropout=0.2, recurrent_dropout=0.2))\n",
        "model.add(LSTM(100, dropout=0.4, recurrent_dropout=0.4))\n",
        "# model.add(Dense(units=64, activation='sigmoid'))\n",
        "model.add(Dense(units=1, activation='sigmoid'))"
      ]
    },
    {
      "cell_type": "code",
      "execution_count": 32,
      "metadata": {
        "id": "y2gzgutLePyr"
      },
      "outputs": [],
      "source": [
        "model.compile(loss='binary_crossentropy', optimizer='adam', metrics=['accuracy'])"
      ]
    },
    {
      "cell_type": "code",
      "execution_count": 33,
      "metadata": {
        "colab": {
          "base_uri": "https://localhost:8080/"
        },
        "id": "Du92VomYeZXP",
        "outputId": "99328744-bbda-4319-8615-a1af3c40ed83"
      },
      "outputs": [
        {
          "name": "stdout",
          "output_type": "stream",
          "text": [
            "Epoch 1/3\n",
            "140/140 [==============================] - 34s 215ms/step - loss: 0.1706 - accuracy: 0.9446 - val_loss: 0.0546 - val_accuracy: 0.9857\n",
            "Epoch 2/3\n",
            "140/140 [==============================] - 28s 199ms/step - loss: 0.0230 - accuracy: 0.9939 - val_loss: 0.0591 - val_accuracy: 0.9865\n",
            "Epoch 3/3\n",
            "140/140 [==============================] - 30s 216ms/step - loss: 0.0090 - accuracy: 0.9978 - val_loss: 0.0539 - val_accuracy: 0.9874\n"
          ]
        },
        {
          "data": {
            "text/plain": [
              "<keras.callbacks.History at 0x1d76cca13c0>"
            ]
          },
          "execution_count": 33,
          "metadata": {},
          "output_type": "execute_result"
        }
      ],
      "source": [
        "model.fit(X_train, y_train,\n",
        "          batch_size=32,\n",
        "          epochs=3,\n",
        "          verbose=1,\n",
        "          validation_data=(X_test, y_test))"
      ]
    },
    {
      "cell_type": "code",
      "execution_count": 34,
      "metadata": {
        "colab": {
          "base_uri": "https://localhost:8080/"
        },
        "id": "puWWJy5afC7q",
        "outputId": "5d559156-27b7-486c-aed7-c72fcc9f5d05"
      },
      "outputs": [
        {
          "name": "stdout",
          "output_type": "stream",
          "text": [
            "35/35 - 1s - loss: 0.0539 - accuracy: 0.9874 - 934ms/epoch - 27ms/step\n",
            "Test score: 0.05387650802731514\n",
            "Test accuracy: 0.9874439239501953\n"
          ]
        }
      ],
      "source": [
        "score, acc = model.evaluate(X_test, y_test,\n",
        "                            batch_size=32,\n",
        "                            verbose=2)\n",
        "print('Test score:', score)\n",
        "print('Test accuracy:', acc)"
      ]
    },
    {
      "cell_type": "code",
      "execution_count": 35,
      "metadata": {
        "id": "4CkpFudGiBnx"
      },
      "outputs": [],
      "source": [
        "new_SMS = \"I am tired of doing the same things every day\"\n",
        "new_SMS = tokenizer.texts_to_sequences([new_SMS])\n",
        "#print(new_SMS)\n",
        "new_SMS = pad_sequences(new_SMS, maxlen=100)"
      ]
    },
    {
      "cell_type": "code",
      "execution_count": 36,
      "metadata": {
        "colab": {
          "base_uri": "https://localhost:8080/"
        },
        "id": "1tFZ4aPEiRuB",
        "outputId": "bf084fac-aa12-41ba-c583-d747d5d94c6c"
      },
      "outputs": [
        {
          "data": {
            "text/plain": [
              "array([[0.00028136]], dtype=float32)"
            ]
          },
          "execution_count": 36,
          "metadata": {},
          "output_type": "execute_result"
        }
      ],
      "source": [
        "result = model.predict(new_SMS)\n",
        "result"
      ]
    },
    {
      "cell_type": "code",
      "execution_count": 37,
      "metadata": {
        "colab": {
          "base_uri": "https://localhost:8080/"
        },
        "id": "hhH6LjoCiwVU",
        "outputId": "0812de9c-48c9-480f-e13f-1578f6e75e23"
      },
      "outputs": [
        {
          "name": "stdout",
          "output_type": "stream",
          "text": [
            "[[0.06188232]]\n"
          ]
        }
      ],
      "source": [
        "new_SPAM = \"500 fresh burguers MUST GO! Txt: KING to No: 220022\"\n",
        "new_SPAM = tokenizer.texts_to_sequences([new_SPAM])\n",
        "#print(new_SPAM)\n",
        "new_SPAM = pad_sequences(new_SPAM, maxlen=100)\n",
        "result = model.predict(new_SPAM)\n",
        "print(result)"
      ]
    },
    {
      "cell_type": "code",
      "execution_count": 38,
      "metadata": {
        "id": "H0P77L6hjXiB"
      },
      "outputs": [],
      "source": [
        "model.save(\"SpamHam.h5\")"
      ]
    }
  ],
  "metadata": {
    "colab": {
      "collapsed_sections": [],
      "name": "SMShamOrSpam.ipynb",
      "provenance": []
    },
    "interpreter": {
      "hash": "369f2c481f4da34e4445cda3fffd2e751bd1c4d706f27375911949ba6bb62e1c"
    },
    "kernelspec": {
      "display_name": "Python 3.10.4 64-bit",
      "language": "python",
      "name": "python3"
    },
    "language_info": {
      "codemirror_mode": {
        "name": "ipython",
        "version": 3
      },
      "file_extension": ".py",
      "mimetype": "text/x-python",
      "name": "python",
      "nbconvert_exporter": "python",
      "pygments_lexer": "ipython3",
      "version": "3.10.4"
    }
  },
  "nbformat": 4,
  "nbformat_minor": 0
}
