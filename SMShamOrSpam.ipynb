{
  "cells": [
    {
      "cell_type": "code",
      "execution_count": 209,
      "metadata": {
        "id": "6XL6r4eMJ_Zw"
      },
      "outputs": [
        {
          "data": {
            "text/html": [
              "<style type=\"text/css\">\n",
              "#T_4f621_row0_col0, #T_4f621_row0_col1, #T_4f621_row1_col0, #T_4f621_row1_col1, #T_4f621_row2_col0, #T_4f621_row2_col1, #T_4f621_row3_col0, #T_4f621_row3_col1, #T_4f621_row4_col0, #T_4f621_row4_col1, #T_4f621_row5_col0, #T_4f621_row5_col1, #T_4f621_row6_col0, #T_4f621_row6_col1, #T_4f621_row7_col0, #T_4f621_row7_col1, #T_4f621_row8_col0, #T_4f621_row8_col1, #T_4f621_row9_col0, #T_4f621_row9_col1, #T_4f621_row10_col0, #T_4f621_row10_col1, #T_4f621_row11_col0, #T_4f621_row11_col1, #T_4f621_row12_col0, #T_4f621_row12_col1 {\n",
              "  text-align: left;\n",
              "}\n",
              "</style>\n",
              "<table id=\"T_4f621\">\n",
              "  <thead>\n",
              "    <tr>\n",
              "      <th class=\"blank level0\" >&nbsp;</th>\n",
              "      <th id=\"T_4f621_level0_col0\" class=\"col_heading level0 col0\" >CATEGORY</th>\n",
              "      <th id=\"T_4f621_level0_col1\" class=\"col_heading level0 col1\" >SMS</th>\n",
              "    </tr>\n",
              "  </thead>\n",
              "  <tbody>\n",
              "    <tr>\n",
              "      <th id=\"T_4f621_level0_row0\" class=\"row_heading level0 row0\" >2202</th>\n",
              "      <td id=\"T_4f621_row0_col0\" class=\"data row0 col0\" >ham</td>\n",
              "      <td id=\"T_4f621_row0_col1\" class=\"data row0 col1\" >A boy was late 2 home. His father: POWER OF FRNDSHIP</td>\n",
              "    </tr>\n",
              "    <tr>\n",
              "      <th id=\"T_4f621_level0_row1\" class=\"row_heading level0 row1\" >2203</th>\n",
              "      <td id=\"T_4f621_row1_col0\" class=\"data row1 col0\" >ham</td>\n",
              "      <td id=\"T_4f621_row1_col1\" class=\"data row1 col1\" >(And my man carlos is definitely coming by mu tonight, no excuses)</td>\n",
              "    </tr>\n",
              "    <tr>\n",
              "      <th id=\"T_4f621_level0_row2\" class=\"row_heading level0 row2\" >2204</th>\n",
              "      <td id=\"T_4f621_row2_col0\" class=\"data row2 col0\" >ham</td>\n",
              "      <td id=\"T_4f621_row2_col1\" class=\"data row2 col1\" >soon you will have the real thing princess! Do i make you wet? :)</td>\n",
              "    </tr>\n",
              "    <tr>\n",
              "      <th id=\"T_4f621_level0_row3\" class=\"row_heading level0 row3\" >2205</th>\n",
              "      <td id=\"T_4f621_row3_col0\" class=\"data row3 col0\" >ham</td>\n",
              "      <td id=\"T_4f621_row3_col1\" class=\"data row3 col1\" >Raji..pls do me a favour. Pls convey my Birthday wishes to Nimya. Pls. Today is her birthday.</td>\n",
              "    </tr>\n",
              "    <tr>\n",
              "      <th id=\"T_4f621_level0_row4\" class=\"row_heading level0 row4\" >2206</th>\n",
              "      <td id=\"T_4f621_row4_col0\" class=\"data row4 col0\" >ham</td>\n",
              "      <td id=\"T_4f621_row4_col1\" class=\"data row4 col1\" >Haha, my legs and neck are killing me and my amigos are hoping to end the night with a burn, think I could swing by in like an hour?</td>\n",
              "    </tr>\n",
              "    <tr>\n",
              "      <th id=\"T_4f621_level0_row5\" class=\"row_heading level0 row5\" >2207</th>\n",
              "      <td id=\"T_4f621_row5_col0\" class=\"data row5 col0\" >spam</td>\n",
              "      <td id=\"T_4f621_row5_col1\" class=\"data row5 col1\" >URGENT! Your mobile No 07xxxxxxxxx won a £2,000 bonus caller prize on 02/06/03! this is the 2nd attempt to reach YOU! call 09066362231 ASAP! BOX97N7QP, 150PPM</td>\n",
              "    </tr>\n",
              "    <tr>\n",
              "      <th id=\"T_4f621_level0_row6\" class=\"row_heading level0 row6\" >2208</th>\n",
              "      <td id=\"T_4f621_row6_col0\" class=\"data row6 col0\" >ham</td>\n",
              "      <td id=\"T_4f621_row6_col1\" class=\"data row6 col1\" >Usually the body takes care of it buy making sure it doesnt progress. Can we pls continue this talk on saturday.</td>\n",
              "    </tr>\n",
              "    <tr>\n",
              "      <th id=\"T_4f621_level0_row7\" class=\"row_heading level0 row7\" >2209</th>\n",
              "      <td id=\"T_4f621_row7_col0\" class=\"data row7 col0\" >spam</td>\n",
              "      <td id=\"T_4f621_row7_col1\" class=\"data row7 col1\" >URGENT!! Your 4* Costa Del Sol Holiday or £5000 await collection. Call 09050090044 Now toClaim. SAE, TC s, POBox334, Stockport, SK38xh, Cost£1.50/pm, Max10mins</td>\n",
              "    </tr>\n",
              "    <tr>\n",
              "      <th id=\"T_4f621_level0_row8\" class=\"row_heading level0 row8\" >2210</th>\n",
              "      <td id=\"T_4f621_row8_col0\" class=\"data row8 col0\" >ham</td>\n",
              "      <td id=\"T_4f621_row8_col1\" class=\"data row8 col1\" >Hmm well, night night </td>\n",
              "    </tr>\n",
              "    <tr>\n",
              "      <th id=\"T_4f621_level0_row9\" class=\"row_heading level0 row9\" >2211</th>\n",
              "      <td id=\"T_4f621_row9_col0\" class=\"data row9 col0\" >ham</td>\n",
              "      <td id=\"T_4f621_row9_col1\" class=\"data row9 col1\" >Just wanted to say holy shit you guys weren't kidding about this bud</td>\n",
              "    </tr>\n",
              "    <tr>\n",
              "      <th id=\"T_4f621_level0_row10\" class=\"row_heading level0 row10\" >2212</th>\n",
              "      <td id=\"T_4f621_row10_col0\" class=\"data row10 col0\" >ham</td>\n",
              "      <td id=\"T_4f621_row10_col1\" class=\"data row10 col1\" >Just gettin a bit arty with my collages at the mo, well tryin 2 ne way! Got a roast in a min lovely i shall enjoy that!</td>\n",
              "    </tr>\n",
              "    <tr>\n",
              "      <th id=\"T_4f621_level0_row11\" class=\"row_heading level0 row11\" >2213</th>\n",
              "      <td id=\"T_4f621_row11_col0\" class=\"data row11 col0\" >ham</td>\n",
              "      <td id=\"T_4f621_row11_col1\" class=\"data row11 col1\" >This is one of the days you have a billion classes, right?</td>\n",
              "    </tr>\n",
              "    <tr>\n",
              "      <th id=\"T_4f621_level0_row12\" class=\"row_heading level0 row12\" >2214</th>\n",
              "      <td id=\"T_4f621_row12_col0\" class=\"data row12 col0\" >ham</td>\n",
              "      <td id=\"T_4f621_row12_col1\" class=\"data row12 col1\" >Goodmorning, today i am late for 2hrs. Because of back pain.</td>\n",
              "    </tr>\n",
              "  </tbody>\n",
              "</table>\n"
            ],
            "text/plain": [
              "<pandas.io.formats.style.Styler at 0x1d4c1f14b20>"
            ]
          },
          "execution_count": 209,
          "metadata": {},
          "output_type": "execute_result"
        }
      ],
      "source": [
        "import pandas as pd\n",
        "df = pd.read_csv('SMSSpamCollection.csv', sep='¤', engine='python')\n",
        "pd.set_option('display.max_colwidth', None)\n",
        "df[2202:2215].style.set_properties(**{'text-align': 'left'})"
      ]
    },
    {
      "cell_type": "code",
      "execution_count": 210,
      "metadata": {
        "colab": {
          "base_uri": "https://localhost:8080/"
        },
        "id": "kLos1LZbXDUw",
        "outputId": "b818ee9c-358a-404d-bac2-4bf141b08eb0"
      },
      "outputs": [
        {
          "name": "stdout",
          "output_type": "stream",
          "text": [
            "NR OF SAMPLES: 5574\n"
          ]
        }
      ],
      "source": [
        "print('NR OF SAMPLES:', len(df))"
      ]
    },
    {
      "cell_type": "code",
      "execution_count": 211,
      "metadata": {},
      "outputs": [],
      "source": [
        "import re\n",
        "from collections import Counter\n",
        "\n",
        "# Get all sms where the label is spam\n",
        "spam = df[df['CATEGORY'] == 'spam']\n",
        "text = spam['SMS'].to_string(index=False)\n",
        "text = text.replace('\\n', ' ')\n",
        "text = re.sub(r'((?!\\w| ).)*', '', text)\n",
        "text = re.sub(r'\\s+', ' ', text)\n",
        "\n",
        "# Count unique words\n",
        "words = text.split(' ')"
      ]
    },
    {
      "cell_type": "code",
      "execution_count": 212,
      "metadata": {},
      "outputs": [
        {
          "name": "stdout",
          "output_type": "stream",
          "text": [
            "347 \t ->  call\n",
            "216 \t ->  free\n",
            "173 \t ->  2\n",
            "158 \t ->  is\n",
            "149 \t ->  txt\n",
            "147 \t ->  u\n",
            "143 \t ->  ur\n",
            "123 \t ->  mobile\n",
            "120 \t ->  text\n",
            "119 \t ->  4\n",
            "115 \t ->  stop\n",
            "113 \t ->  claim\n",
            "101 \t ->  reply\n",
            "92 \t ->  prize\n",
            "80 \t ->  are\n",
            "73 \t ->  won\n",
            "68 \t ->  send\n",
            "65 \t ->  nokia\n",
            "63 \t ->  urgent\n",
            "62 \t ->  cash\n"
          ]
        }
      ],
      "source": [
        "common_english_words = [\n",
        "  'the', 'be', 'to', 'of', 'and', 'a', 'in', 'that', 'have', \n",
        "  'I', 'it', 'for', 'not', 'on', 'with', 'he', 'as', 'you', \n",
        "  'do', 'at', 'this', 'but', 'his', 'by', 'from', 'they', \n",
        "  'we', 'say', 'her', 'she', 'or', 'will', 'an', 'my', \n",
        "  'one', 'all', 'would', 'there', 'their', 'what', 'so', \n",
        "  'up', 'out', 'if', 'about', 'who', 'get', 'which', 'go', \n",
        "  'when', 'me', 'make', 'can', 'like', 'time', 'no', 'just', \n",
        "  'him', 'know', 'take', 'person', 'into', 'year', 'your', \n",
        "  'good', 'some', 'could', 'them', 'see', 'other', 'than', \n",
        "  'then', 'now', 'look', 'only', 'come', 'its', 'over', \n",
        "  'think', 'also', 'back', 'after', 'use', 'two', 'how', \n",
        "  'our', 'work', 'first', 'well', 'way', 'even', 'new', \n",
        "  'want', 'because', 'any', 'these', 'give', 'day', 'most', \n",
        "  'us', 'over', 'new', 'sound', 'take', 'only', 'little', \n",
        "  'work', 'know', 'place', 'year', 'live', 'me', 'back', \n",
        "  'give', 'most', 'very', 'after', 'thing', 'our', 'just', \n",
        "  'name', 'good', 'sentence', 'man', 'think', 'say', 'great',\n",
        "  'where', 'help', 'through', 'much', 'before', 'line',\n",
        "  'right', 'too', 'mean', 'old', 'any', 'same', 'tell',\n",
        "  'boy', 'follow', 'came', 'want', 'show', 'also', 'around',\n",
        "  'form', 'three', 'small', 'set', 'put', 'end', 'does',\n",
        "  'another', 'well', 'large', 'must', 'big', 'even', 'such',\n",
        "  'because', 'turn', 'here', 'why', 'ask', 'went', 'men',\n",
        "  'read', 'need', 'land', 'different', 'home', 'us', 'move',\n",
        "  'try', 'kind', 'hand', 'picture', 'again', 'change',\n",
        "  'off', 'play', 'spell', 'air', 'away', 'animal', 'house',\n",
        "  'point', 'page', 'letter', 'mother', 'answer', 'found',\n",
        "  'study', 'still', 'learn', 'should', 'America', 'world'\n",
        "] # source https://en.wikipedia.org/wiki/Most_common_words_in_English\n",
        "\n",
        "common_english_words = [w.lower() for w in common_english_words]\n",
        "words = [w.lower() for w in words]\n",
        "\n",
        "most_spammy_words = [w for w in words if w not in common_english_words]\n",
        "\n",
        "top20 = Counter(most_spammy_words).most_common(20)\n",
        "for word, count in top20:\n",
        "  print(count, \"\\t -> \", word)"
      ]
    },
    {
      "cell_type": "code",
      "execution_count": 213,
      "metadata": {},
      "outputs": [
        {
          "data": {
            "image/png": "[encoded data removed]",
            "text/plain": [
              "<Figure size 432x288 with 1 Axes>"
            ]
          },
          "metadata": {},
          "output_type": "display_data"
        }
      ],
      "source": [
        "# Pie chart\n",
        "import matplotlib.pyplot as plt\n",
        "labels = 'Spam', 'Ham'\n",
        "sizes = [len(df.loc[df['CATEGORY'] == 'spam']), len(df.loc[df['CATEGORY'] == 'ham'])]\n",
        "explode = (0, 0.1)  # only \"explode\" the 2nd slice\n",
        "\n",
        "fig1, ax1 = plt.subplots()\n",
        "ax1.pie(sizes, explode=explode, labels=labels, autopct='%1.1f%%',\n",
        "        shadow=True, startangle=90)\n",
        "ax1.axis('equal')  # Equal aspect ratio ensures that pie is drawn as a circle.\n",
        "\n",
        "plt.show()"
      ]
    },
    {
      "cell_type": "code",
      "execution_count": 214,
      "metadata": {
        "colab": {
          "base_uri": "https://localhost:8080/"
        },
        "id": "7b4IaBNcgSe8",
        "outputId": "683e1575-ed2c-40ec-e86e-3d95f6d29a1e"
      },
      "outputs": [
        {
          "name": "stdout",
          "output_type": "stream",
          "text": [
            "['ham' 'spam' 'spam ']\n"
          ]
        }
      ],
      "source": [
        "#making sure that the y column has only two possible values\n",
        "print(df['CATEGORY'].unique())"
      ]
    },
    {
      "cell_type": "code",
      "execution_count": 215,
      "metadata": {
        "colab": {
          "base_uri": "https://localhost:8080/"
        },
        "id": "Kzv6qWlcgX_g",
        "outputId": "c4fd26dc-8a2b-449a-9042-7008d3f5ca02"
      },
      "outputs": [
        {
          "name": "stdout",
          "output_type": "stream",
          "text": [
            "['ham' 'spam']\n"
          ]
        }
      ],
      "source": [
        "df['CATEGORY'] = df['CATEGORY'].str.strip()\n",
        "print(df['CATEGORY'].unique())"
      ]
    },
    {
      "cell_type": "code",
      "execution_count": 216,
      "metadata": {},
      "outputs": [
        {
          "name": "stderr",
          "output_type": "stream",
          "text": [
            "c:\\Python310\\lib\\site-packages\\seaborn\\_decorators.py:36: FutureWarning: Pass the following variables as keyword args: x, y. From version 0.12, the only valid positional argument will be `data`, and passing other arguments without an explicit keyword will result in an error or misinterpretation.\n",
            "  warnings.warn(\n"
          ]
        },
        {
          "data": {
            "image/png": "[encoded data removed]",
            "text/plain": [
              "<Figure size 432x288 with 1 Axes>"
            ]
          },
          "metadata": {
            "needs_background": "light"
          },
          "output_type": "display_data"
        }
      ],
      "source": [
        "import seaborn as sns\n",
        "words_len_df = df.copy()\n",
        "words_len_df['SMS'] = words_len_df['SMS'].apply(lambda sms : len(sms.split(' ')))\n",
        "sns.scatterplot(range(5574), 'SMS', data=words_len_df, hue='CATEGORY')\n",
        "plt.show()"
      ]
    },
    {
      "cell_type": "code",
      "execution_count": 217,
      "metadata": {},
      "outputs": [],
      "source": [
        "X = df['SMS']\n",
        "y = df['CATEGORY']"
      ]
    },
    {
      "cell_type": "code",
      "execution_count": 218,
      "metadata": {
        "colab": {
          "base_uri": "https://localhost:8080/"
        },
        "id": "1Gx5_9klY_us",
        "outputId": "f13767c1-273e-4e0b-f2b3-9c28f249adfa"
      },
      "outputs": [
        {
          "data": {
            "text/plain": [
              "0    0\n",
              "1    0\n",
              "2    1\n",
              "3    0\n",
              "4    0\n",
              "Name: CATEGORY, dtype: object"
            ]
          },
          "execution_count": 218,
          "metadata": {},
          "output_type": "execute_result"
        }
      ],
      "source": [
        "#Transforming them to numerical values\n",
        "y[y == 'spam'] = 1\n",
        "y[y == 'ham'] = 0\n",
        "y[:5]"
      ]
    },
    {
      "cell_type": "code",
      "execution_count": 219,
      "metadata": {
        "id": "iRVq1gbLfk07"
      },
      "outputs": [],
      "source": [
        "import numpy as np\n",
        "y = np.asarray(y).astype(int)"
      ]
    },
    {
      "cell_type": "code",
      "execution_count": 220,
      "metadata": {
        "colab": {
          "base_uri": "https://localhost:8080/"
        },
        "id": "28eg4ClaarQT",
        "outputId": "e7eb320c-0f00-4ca0-91a4-c00e39a8a812"
      },
      "outputs": [
        {
          "name": "stdout",
          "output_type": "stream",
          "text": [
            "***** Nr of characters the longest content is:  910\n"
          ]
        }
      ],
      "source": [
        "print('***** Nr of characters the longest content is: ',\n",
        "max([len(x) for x in X]))"
      ]
    },
    {
      "cell_type": "code",
      "execution_count": 221,
      "metadata": {
        "colab": {
          "base_uri": "https://localhost:8080/"
        },
        "id": "r_dzy1TMcyAK",
        "outputId": "53a3954c-ab1b-4b22-c64b-f6929a5a4ed6"
      },
      "outputs": [
        {
          "data": {
            "text/plain": [
              "9009"
            ]
          },
          "execution_count": 221,
          "metadata": {},
          "output_type": "execute_result"
        }
      ],
      "source": [
        "from tensorflow.keras.preprocessing.text import Tokenizer\n",
        "\n",
        "tokenizer = Tokenizer()\n",
        "tokenizer.fit_on_texts(X)\n",
        "total_words = len(tokenizer.word_index) + 1\n",
        "total_words"
      ]
    },
    {
      "cell_type": "code",
      "execution_count": 222,
      "metadata": {
        "id": "NVKfw8yb67H3"
      },
      "outputs": [],
      "source": [
        "import pickle\n",
        "\n",
        "# saving\n",
        "with open('tokenizer.pickle', 'wb') as handle:\n",
        "    pickle.dump(tokenizer, handle, protocol=pickle.HIGHEST_PROTOCOL)"
      ]
    },
    {
      "cell_type": "code",
      "execution_count": 223,
      "metadata": {
        "colab": {
          "base_uri": "https://localhost:8080/"
        },
        "id": "nF9TzofkdMt9",
        "outputId": "9769d3f4-affe-40f7-a13f-2f9550487130"
      },
      "outputs": [
        {
          "data": {
            "text/plain": [
              "[6, 248, 150, 23, 382, 2998, 6, 139, 154, 57, 150]"
            ]
          },
          "execution_count": 223,
          "metadata": {},
          "output_type": "execute_result"
        }
      ],
      "source": [
        "X = tokenizer.texts_to_sequences(X)\n",
        "X[3]"
      ]
    },
    {
      "cell_type": "code",
      "execution_count": 157,
      "metadata": {
        "colab": {
          "base_uri": "https://localhost:8080/"
        },
        "id": "MYulbAbsdgQt",
        "outputId": "e09c74c6-d8a2-40e9-cc2a-e890f08e4c86"
      },
      "outputs": [
        {
          "name": "stdout",
          "output_type": "stream",
          "text": [
            "*****Max words in SMS: 189\n"
          ]
        },
        {
          "data": {
            "text/plain": [
              "array([   0,    0,    0,    0,    0,    0,    0,    0,    0,    0,    0,\n",
              "          0,    0,    0,    0,    0,    0,    0,    0,    0,    0,    0,\n",
              "          0,    0,    0,    0,    0,    0,    0,    0,    0,    0,    0,\n",
              "          0,    0,    0,    0,    0,    0,    0,    0,    0,    0,    0,\n",
              "          0,    0,    0,    0,    0,    0,    0,    0,    0,    0,    0,\n",
              "          0,    0,    0,    0,    0,    0,    0,    0,    0,    0,    0,\n",
              "          0,    0,    0,   47,  489,    8,   19,    4,  797,  901,    2,\n",
              "        176, 1941, 1105,  659, 1942, 2331,  261, 2332,   71, 1941,    2,\n",
              "       1943,    2,  337,  489,  555,  960,   73,  391,  174,  660,  392,\n",
              "       2997])"
            ]
          },
          "execution_count": 157,
          "metadata": {},
          "output_type": "execute_result"
        }
      ],
      "source": [
        "# pad content based on the longest SMS...\n",
        "max_SMS_len = max(len(x) for x in X)\n",
        "print('*****Max words in SMS:', max_SMS_len)\n",
        "\n",
        "from tensorflow.keras.preprocessing.sequence import pad_sequences\n",
        "X = pad_sequences(X, maxlen=100)\n",
        "X[2]"
      ]
    },
    {
      "cell_type": "code",
      "execution_count": 158,
      "metadata": {
        "colab": {
          "base_uri": "https://localhost:8080/"
        },
        "id": "Jn1pVTA0dvaJ",
        "outputId": "920b42ea-bcf6-4c7d-f707-fe3147ececc5"
      },
      "outputs": [
        {
          "name": "stdout",
          "output_type": "stream",
          "text": [
            "***** Shape of training samples:  (4459, 100)\n",
            "***** Shape of testing samples:  (1115, 100)\n"
          ]
        }
      ],
      "source": [
        "from sklearn.model_selection import train_test_split\n",
        "X_train, X_test, y_train, y_test = train_test_split(X, y, test_size = 0.2, random_state = 22)\n",
        "print('***** Shape of training samples: ', X_train.shape)\n",
        "print('***** Shape of testing samples: ', X_test.shape)"
      ]
    },
    {
      "cell_type": "code",
      "execution_count": 159,
      "metadata": {
        "id": "E84s1sy0d0b9"
      },
      "outputs": [],
      "source": [
        "from tensorflow.keras.layers import Embedding, LSTM, Dense\n",
        "from tensorflow.keras.models import Sequential\n",
        "from tensorflow.keras.optimizers import Adam\n",
        "\n",
        "model = Sequential()\n",
        "model.add(Embedding(9009, 128)) # 128 neurons (columns in Excel)\n",
        "model.add(LSTM(128, dropout=0.3, recurrent_dropout=0.3))\n",
        "model.add(Dense(units=1, activation='sigmoid'))"
      ]
    },
    {
      "cell_type": "code",
      "execution_count": 160,
      "metadata": {
        "id": "y2gzgutLePyr"
      },
      "outputs": [],
      "source": [
        "model.compile(loss='binary_crossentropy', optimizer='adam', metrics=['accuracy'])"
      ]
    },
    {
      "cell_type": "code",
      "execution_count": 161,
      "metadata": {
        "colab": {
          "base_uri": "https://localhost:8080/"
        },
        "id": "Du92VomYeZXP",
        "outputId": "99328744-bbda-4319-8615-a1af3c40ed83"
      },
      "outputs": [
        {
          "name": "stdout",
          "output_type": "stream",
          "text": [
            "Epoch 1/3\n",
            "279/279 [==============================] - 66s 214ms/step - loss: 0.1219 - accuracy: 0.9601 - val_loss: 0.0530 - val_accuracy: 0.9812\n",
            "Epoch 2/3\n",
            "279/279 [==============================] - 58s 209ms/step - loss: 0.0225 - accuracy: 0.9939 - val_loss: 0.0418 - val_accuracy: 0.9865\n",
            "Epoch 3/3\n",
            "279/279 [==============================] - 64s 228ms/step - loss: 0.0054 - accuracy: 0.9984 - val_loss: 0.0532 - val_accuracy: 0.9874\n"
          ]
        },
        {
          "data": {
            "text/plain": [
              "<keras.callbacks.History at 0x1d4c225e230>"
            ]
          },
          "execution_count": 161,
          "metadata": {},
          "output_type": "execute_result"
        }
      ],
      "source": [
        "model.fit(X_train, y_train,\n",
        "          batch_size=16,\n",
        "          epochs=3,\n",
        "          verbose=1,\n",
        "          validation_data=(X_test, y_test))"
      ]
    },
    {
      "cell_type": "code",
      "execution_count": 162,
      "metadata": {
        "colab": {
          "base_uri": "https://localhost:8080/"
        },
        "id": "puWWJy5afC7q",
        "outputId": "5d559156-27b7-486c-aed7-c72fcc9f5d05"
      },
      "outputs": [
        {
          "name": "stdout",
          "output_type": "stream",
          "text": [
            "35/35 - 1s - loss: 0.0532 - accuracy: 0.9874 - 1s/epoch - 39ms/step\n",
            "Test score: 0.05318320170044899\n",
            "Test accuracy: 0.9874439239501953\n"
          ]
        }
      ],
      "source": [
        "score, acc = model.evaluate(X_test, y_test,\n",
        "                            batch_size=32,\n",
        "                            verbose=2)\n",
        "print('Test score:', score)\n",
        "print('Test accuracy:', acc)"
      ]
    },
    {
      "cell_type": "code",
      "execution_count": 163,
      "metadata": {
        "id": "4CkpFudGiBnx"
      },
      "outputs": [],
      "source": [
        "new_SMS = \"I am tired of doing the same things every day\"\n",
        "new_SMS = tokenizer.texts_to_sequences([new_SMS])\n",
        "new_SMS = pad_sequences(new_SMS, maxlen=100)"
      ]
    },
    {
      "cell_type": "code",
      "execution_count": 164,
      "metadata": {
        "colab": {
          "base_uri": "https://localhost:8080/"
        },
        "id": "1tFZ4aPEiRuB",
        "outputId": "bf084fac-aa12-41ba-c583-d747d5d94c6c"
      },
      "outputs": [
        {
          "name": "stdout",
          "output_type": "stream",
          "text": [
            "Is SMS spam?  False\n"
          ]
        }
      ],
      "source": [
        "result = model.predict(new_SMS)\n",
        "isSpam = result[0][0] > 0.5\n",
        "print('Is SMS spam? ', isSpam)"
      ]
    },
    {
      "cell_type": "code",
      "execution_count": 225,
      "metadata": {
        "colab": {
          "base_uri": "https://localhost:8080/"
        },
        "id": "hhH6LjoCiwVU",
        "outputId": "0812de9c-48c9-480f-e13f-1578f6e75e23"
      },
      "outputs": [
        {
          "name": "stdout",
          "output_type": "stream",
          "text": [
            "Is SPAM spam?  True\n"
          ]
        }
      ],
      "source": [
        "new_SPAM = \"Special price 4 U, send hot to 22222 or STOP to 85858\"\n",
        "new_SPAM = tokenizer.texts_to_sequences([new_SPAM])\n",
        "#print(new_SPAM)\n",
        "new_SPAM = pad_sequences(new_SPAM, maxlen=100)\n",
        "result = model.predict(new_SPAM)\n",
        "isSpam = result[0][0] > 0.5\n",
        "print('Is SPAM spam? ', isSpam)"
      ]
    },
    {
      "cell_type": "code",
      "execution_count": 166,
      "metadata": {
        "id": "H0P77L6hjXiB"
      },
      "outputs": [],
      "source": [
        "model.save(\"model.h5\")"
      ]
    }
  ],
  "metadata": {
    "colab": {
      "collapsed_sections": [],
      "name": "SMShamOrSpam.ipynb",
      "provenance": []
    },
    "interpreter": {
      "hash": "369f2c481f4da34e4445cda3fffd2e751bd1c4d706f27375911949ba6bb62e1c"
    },
    "kernelspec": {
      "display_name": "Python 3.10.4 64-bit",
      "language": "python",
      "name": "python3"
    },
    "language_info": {
      "codemirror_mode": {
        "name": "ipython",
        "version": 3
      },
      "file_extension": ".py",
      "mimetype": "text/x-python",
      "name": "python",
      "nbconvert_exporter": "python",
      "pygments_lexer": "ipython3",
      "version": "3.10.4"
    }
  },
  "nbformat": 4,
  "nbformat_minor": 0
}
