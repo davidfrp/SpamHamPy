{
  "cells": [
    {
      "cell_type": "code",
      "execution_count": 118,
      "metadata": {
        "id": "6XL6r4eMJ_Zw"
      },
      "outputs": [
        {
          "data": {
            "text/html": [
              "<style type=\"text/css\">\n",
              "#T_45694_row0_col0, #T_45694_row0_col1, #T_45694_row1_col0, #T_45694_row1_col1, #T_45694_row2_col0, #T_45694_row2_col1, #T_45694_row3_col0, #T_45694_row3_col1, #T_45694_row4_col0, #T_45694_row4_col1, #T_45694_row5_col0, #T_45694_row5_col1, #T_45694_row6_col0, #T_45694_row6_col1, #T_45694_row7_col0, #T_45694_row7_col1, #T_45694_row8_col0, #T_45694_row8_col1, #T_45694_row9_col0, #T_45694_row9_col1, #T_45694_row10_col0, #T_45694_row10_col1, #T_45694_row11_col0, #T_45694_row11_col1, #T_45694_row12_col0, #T_45694_row12_col1, #T_45694_row13_col0, #T_45694_row13_col1, #T_45694_row14_col0, #T_45694_row14_col1, #T_45694_row15_col0, #T_45694_row15_col1, #T_45694_row16_col0, #T_45694_row16_col1, #T_45694_row17_col0, #T_45694_row17_col1, #T_45694_row18_col0, #T_45694_row18_col1, #T_45694_row19_col0, #T_45694_row19_col1 {\n",
              "  text-align: left;\n",
              "}\n",
              "</style>\n",
              "<table id=\"T_45694\">\n",
              "  <thead>\n",
              "    <tr>\n",
              "      <th class=\"blank level0\" >&nbsp;</th>\n",
              "      <th id=\"T_45694_level0_col0\" class=\"col_heading level0 col0\" >CATEGORY</th>\n",
              "      <th id=\"T_45694_level0_col1\" class=\"col_heading level0 col1\" >SMS</th>\n",
              "    </tr>\n",
              "  </thead>\n",
              "  <tbody>\n",
              "    <tr>\n",
              "      <th id=\"T_45694_level0_row0\" class=\"row_heading level0 row0\" >2202</th>\n",
              "      <td id=\"T_45694_row0_col0\" class=\"data row0 col0\" >ham</td>\n",
              "      <td id=\"T_45694_row0_col1\" class=\"data row0 col1\" >A boy was late 2 home. His father: POWER OF FRNDSHIP</td>\n",
              "    </tr>\n",
              "    <tr>\n",
              "      <th id=\"T_45694_level0_row1\" class=\"row_heading level0 row1\" >2203</th>\n",
              "      <td id=\"T_45694_row1_col0\" class=\"data row1 col0\" >ham</td>\n",
              "      <td id=\"T_45694_row1_col1\" class=\"data row1 col1\" >(And my man carlos is definitely coming by mu tonight, no excuses)</td>\n",
              "    </tr>\n",
              "    <tr>\n",
              "      <th id=\"T_45694_level0_row2\" class=\"row_heading level0 row2\" >2204</th>\n",
              "      <td id=\"T_45694_row2_col0\" class=\"data row2 col0\" >ham</td>\n",
              "      <td id=\"T_45694_row2_col1\" class=\"data row2 col1\" >soon you will have the real thing princess! Do i make you wet? :)</td>\n",
              "    </tr>\n",
              "    <tr>\n",
              "      <th id=\"T_45694_level0_row3\" class=\"row_heading level0 row3\" >2205</th>\n",
              "      <td id=\"T_45694_row3_col0\" class=\"data row3 col0\" >ham</td>\n",
              "      <td id=\"T_45694_row3_col1\" class=\"data row3 col1\" >Raji..pls do me a favour. Pls convey my Birthday wishes to Nimya. Pls. Today is her birthday.</td>\n",
              "    </tr>\n",
              "    <tr>\n",
              "      <th id=\"T_45694_level0_row4\" class=\"row_heading level0 row4\" >2206</th>\n",
              "      <td id=\"T_45694_row4_col0\" class=\"data row4 col0\" >ham</td>\n",
              "      <td id=\"T_45694_row4_col1\" class=\"data row4 col1\" >Haha, my legs and neck are killing me and my amigos are hoping to end the night with a burn, think I could swing by in like an hour?</td>\n",
              "    </tr>\n",
              "    <tr>\n",
              "      <th id=\"T_45694_level0_row5\" class=\"row_heading level0 row5\" >2207</th>\n",
              "      <td id=\"T_45694_row5_col0\" class=\"data row5 col0\" >spam</td>\n",
              "      <td id=\"T_45694_row5_col1\" class=\"data row5 col1\" >URGENT! Your mobile No 07xxxxxxxxx won a £2,000 bonus caller prize on 02/06/03! this is the 2nd attempt to reach YOU! call 09066362231 ASAP! BOX97N7QP, 150PPM</td>\n",
              "    </tr>\n",
              "    <tr>\n",
              "      <th id=\"T_45694_level0_row6\" class=\"row_heading level0 row6\" >2208</th>\n",
              "      <td id=\"T_45694_row6_col0\" class=\"data row6 col0\" >ham</td>\n",
              "      <td id=\"T_45694_row6_col1\" class=\"data row6 col1\" >Usually the body takes care of it buy making sure it doesnt progress. Can we pls continue this talk on saturday.</td>\n",
              "    </tr>\n",
              "    <tr>\n",
              "      <th id=\"T_45694_level0_row7\" class=\"row_heading level0 row7\" >2209</th>\n",
              "      <td id=\"T_45694_row7_col0\" class=\"data row7 col0\" >spam</td>\n",
              "      <td id=\"T_45694_row7_col1\" class=\"data row7 col1\" >URGENT!! Your 4* Costa Del Sol Holiday or £5000 await collection. Call 09050090044 Now toClaim. SAE, TC s, POBox334, Stockport, SK38xh, Cost£1.50/pm, Max10mins</td>\n",
              "    </tr>\n",
              "    <tr>\n",
              "      <th id=\"T_45694_level0_row8\" class=\"row_heading level0 row8\" >2210</th>\n",
              "      <td id=\"T_45694_row8_col0\" class=\"data row8 col0\" >ham</td>\n",
              "      <td id=\"T_45694_row8_col1\" class=\"data row8 col1\" >Hmm well, night night </td>\n",
              "    </tr>\n",
              "    <tr>\n",
              "      <th id=\"T_45694_level0_row9\" class=\"row_heading level0 row9\" >2211</th>\n",
              "      <td id=\"T_45694_row9_col0\" class=\"data row9 col0\" >ham</td>\n",
              "      <td id=\"T_45694_row9_col1\" class=\"data row9 col1\" >Just wanted to say holy shit you guys weren't kidding about this bud</td>\n",
              "    </tr>\n",
              "    <tr>\n",
              "      <th id=\"T_45694_level0_row10\" class=\"row_heading level0 row10\" >2212</th>\n",
              "      <td id=\"T_45694_row10_col0\" class=\"data row10 col0\" >ham</td>\n",
              "      <td id=\"T_45694_row10_col1\" class=\"data row10 col1\" >Just gettin a bit arty with my collages at the mo, well tryin 2 ne way! Got a roast in a min lovely i shall enjoy that!</td>\n",
              "    </tr>\n",
              "    <tr>\n",
              "      <th id=\"T_45694_level0_row11\" class=\"row_heading level0 row11\" >2213</th>\n",
              "      <td id=\"T_45694_row11_col0\" class=\"data row11 col0\" >ham</td>\n",
              "      <td id=\"T_45694_row11_col1\" class=\"data row11 col1\" >This is one of the days you have a billion classes, right?</td>\n",
              "    </tr>\n",
              "    <tr>\n",
              "      <th id=\"T_45694_level0_row12\" class=\"row_heading level0 row12\" >2214</th>\n",
              "      <td id=\"T_45694_row12_col0\" class=\"data row12 col0\" >ham</td>\n",
              "      <td id=\"T_45694_row12_col1\" class=\"data row12 col1\" >Goodmorning, today i am late for 2hrs. Because of back pain.</td>\n",
              "    </tr>\n",
              "    <tr>\n",
              "      <th id=\"T_45694_level0_row13\" class=\"row_heading level0 row13\" >2215</th>\n",
              "      <td id=\"T_45694_row13_col0\" class=\"data row13 col0\" >ham</td>\n",
              "      <td id=\"T_45694_row13_col1\" class=\"data row13 col1\" >Ok then i'll let him noe later n ask him call u tmr...</td>\n",
              "    </tr>\n",
              "    <tr>\n",
              "      <th id=\"T_45694_level0_row14\" class=\"row_heading level0 row14\" >2216</th>\n",
              "      <td id=\"T_45694_row14_col0\" class=\"data row14 col0\" >ham</td>\n",
              "      <td id=\"T_45694_row14_col1\" class=\"data row14 col1\" >Prabha..i'm soryda..realy..frm heart i'm sory</td>\n",
              "    </tr>\n",
              "    <tr>\n",
              "      <th id=\"T_45694_level0_row15\" class=\"row_heading level0 row15\" >2217</th>\n",
              "      <td id=\"T_45694_row15_col0\" class=\"data row15 col0\" >ham</td>\n",
              "      <td id=\"T_45694_row15_col1\" class=\"data row15 col1\" >OK i'm waliking ard now... Do u wan me 2 buy anything go ur house?</td>\n",
              "    </tr>\n",
              "    <tr>\n",
              "      <th id=\"T_45694_level0_row16\" class=\"row_heading level0 row16\" >2218</th>\n",
              "      <td id=\"T_45694_row16_col0\" class=\"data row16 col0\" >ham</td>\n",
              "      <td id=\"T_45694_row16_col1\" class=\"data row16 col1\" >* Will have two more cartons off u and is very pleased with shelves</td>\n",
              "    </tr>\n",
              "    <tr>\n",
              "      <th id=\"T_45694_level0_row17\" class=\"row_heading level0 row17\" >2219</th>\n",
              "      <td id=\"T_45694_row17_col0\" class=\"data row17 col0\" >ham</td>\n",
              "      <td id=\"T_45694_row17_col1\" class=\"data row17 col1\" >Nice talking to you! please dont forget my pix :) i want to see all of you...</td>\n",
              "    </tr>\n",
              "    <tr>\n",
              "      <th id=\"T_45694_level0_row18\" class=\"row_heading level0 row18\" >2220</th>\n",
              "      <td id=\"T_45694_row18_col0\" class=\"data row18 col0\" >spam</td>\n",
              "      <td id=\"T_45694_row18_col1\" class=\"data row18 col1\" >You have WON a guaranteed £1000 cash or a £2000 prize. To claim yr prize call our customer service representative on 08714712379 between 10am-7pm Cost 10p</td>\n",
              "    </tr>\n",
              "    <tr>\n",
              "      <th id=\"T_45694_level0_row19\" class=\"row_heading level0 row19\" >2221</th>\n",
              "      <td id=\"T_45694_row19_col0\" class=\"data row19 col0\" >ham</td>\n",
              "      <td id=\"T_45694_row19_col1\" class=\"data row19 col1\" >But really quite funny lor wat... Then u shd haf run shorter distance wat...</td>\n",
              "    </tr>\n",
              "  </tbody>\n",
              "</table>\n"
            ],
            "text/plain": [
              "<pandas.io.formats.style.Styler at 0x1a79cde9180>"
            ]
          },
          "execution_count": 118,
          "metadata": {},
          "output_type": "execute_result"
        }
      ],
      "source": [
        "import pandas as pd\n",
        "df = pd.read_csv('SMSSpamCollection.csv', sep='¤', engine='python')\n",
        "pd.set_option('display.max_colwidth', None)\n",
        "df[2202:2222].style.set_properties(**{'text-align': 'left'})"
      ]
    },
    {
      "cell_type": "code",
      "execution_count": 115,
      "metadata": {
        "colab": {
          "base_uri": "https://localhost:8080/",
          "height": 927
        },
        "id": "tVRWlPrYVDr7",
        "outputId": "f5059039-445e-4cfe-b882-020424a335bb"
      },
      "outputs": [
        {
          "data": {
            "text/html": [
              "<div>\n",
              "<style scoped>\n",
              "    .dataframe tbody tr th:only-of-type {\n",
              "        vertical-align: middle;\n",
              "    }\n",
              "\n",
              "    .dataframe tbody tr th {\n",
              "        vertical-align: top;\n",
              "    }\n",
              "\n",
              "    .dataframe thead th {\n",
              "        text-align: right;\n",
              "    }\n",
              "</style>\n",
              "<table border=\"1\" class=\"dataframe\">\n",
              "  <thead>\n",
              "    <tr style=\"text-align: right;\">\n",
              "      <th></th>\n",
              "      <th>CATEGORY</th>\n",
              "      <th>SMS</th>\n",
              "    </tr>\n",
              "  </thead>\n",
              "  <tbody>\n",
              "    <tr>\n",
              "      <th>222</th>\n",
              "      <td>ham</td>\n",
              "      <td>There is os called ubandu which will run without installing in hard disk...you can use that os to copy the important files in system and give it to repair shop..</td>\n",
              "    </tr>\n",
              "    <tr>\n",
              "      <th>223</th>\n",
              "      <td>ham</td>\n",
              "      <td>Sorry, I'll call later</td>\n",
              "    </tr>\n",
              "    <tr>\n",
              "      <th>224</th>\n",
              "      <td>ham</td>\n",
              "      <td>U say leh... Of course nothing happen lar. Not say v romantic jus a bit only lor. I thk e nite scenery not so nice leh.</td>\n",
              "    </tr>\n",
              "    <tr>\n",
              "      <th>225</th>\n",
              "      <td>spam</td>\n",
              "      <td>500 New Mobiles from 2004, MUST GO! Txt: NOKIA to No: 89545 &amp; collect yours today!From ONLY £1 www.4-tc.biz 2optout 087187262701.50gbp/mtmsg18</td>\n",
              "    </tr>\n",
              "    <tr>\n",
              "      <th>226</th>\n",
              "      <td>ham</td>\n",
              "      <td>Would really appreciate if you call me. Just need someone to talk to.</td>\n",
              "    </tr>\n",
              "    <tr>\n",
              "      <th>227</th>\n",
              "      <td>spam</td>\n",
              "      <td>Will u meet ur dream partner soon? Is ur career off 2 a flyng start? 2 find out free, txt HORO followed by ur star sign, e. g. HORO ARIES</td>\n",
              "    </tr>\n",
              "    <tr>\n",
              "      <th>228</th>\n",
              "      <td>ham</td>\n",
              "      <td>Hey company elama po mudyadhu.</td>\n",
              "    </tr>\n",
              "    <tr>\n",
              "      <th>229</th>\n",
              "      <td>ham</td>\n",
              "      <td>Life is more strict than teacher... Bcoz Teacher teaches lesson &amp;amp; then conducts exam, But Life first conducts Exam &amp;amp; then teaches Lessons. Happy morning. . .</td>\n",
              "    </tr>\n",
              "    <tr>\n",
              "      <th>230</th>\n",
              "      <td>ham</td>\n",
              "      <td>Dear good morning now only i am up</td>\n",
              "    </tr>\n",
              "    <tr>\n",
              "      <th>231</th>\n",
              "      <td>ham</td>\n",
              "      <td>Get down in gandhipuram and walk to cross cut road. Right side &amp;lt;#&amp;gt; street road and turn at first right.</td>\n",
              "    </tr>\n",
              "    <tr>\n",
              "      <th>232</th>\n",
              "      <td>ham</td>\n",
              "      <td>Dear we are going to our rubber place</td>\n",
              "    </tr>\n",
              "    <tr>\n",
              "      <th>233</th>\n",
              "      <td>ham</td>\n",
              "      <td>Sorry battery died, yeah I'm here</td>\n",
              "    </tr>\n",
              "    <tr>\n",
              "      <th>234</th>\n",
              "      <td>ham</td>\n",
              "      <td>Yes:)here tv is always available in work place..</td>\n",
              "    </tr>\n",
              "    <tr>\n",
              "      <th>235</th>\n",
              "      <td>spam</td>\n",
              "      <td>Text &amp; meet someone sexy today. U can find a date or even flirt its up to U. Join 4 just 10p. REPLY with NAME &amp; AGE eg Sam 25. 18 -msg recd@thirtyeight pence</td>\n",
              "    </tr>\n",
              "    <tr>\n",
              "      <th>236</th>\n",
              "      <td>ham</td>\n",
              "      <td>I have printed it oh. So  &amp;lt;#&amp;gt;  come upstairs</td>\n",
              "    </tr>\n",
              "    <tr>\n",
              "      <th>237</th>\n",
              "      <td>ham</td>\n",
              "      <td>Or ill be a little closer like at the bus stop on the same street</td>\n",
              "    </tr>\n",
              "    <tr>\n",
              "      <th>238</th>\n",
              "      <td>ham</td>\n",
              "      <td>Where are you?when wil you reach here?</td>\n",
              "    </tr>\n",
              "    <tr>\n",
              "      <th>239</th>\n",
              "      <td>ham</td>\n",
              "      <td>New Theory: Argument wins d SITUATION, but loses the PERSON. So dont argue with ur friends just.. . . . kick them &amp;amp; say, I'm always correct.!</td>\n",
              "    </tr>\n",
              "    <tr>\n",
              "      <th>240</th>\n",
              "      <td>spam</td>\n",
              "      <td>U 447801259231 have a secret admirer who is looking 2 make contact with U-find out who they R*reveal who thinks UR so special-call on 09058094597</td>\n",
              "    </tr>\n",
              "    <tr>\n",
              "      <th>241</th>\n",
              "      <td>ham</td>\n",
              "      <td>Tomarrow final hearing on my laptop case so i cant.</td>\n",
              "    </tr>\n",
              "    <tr>\n",
              "      <th>242</th>\n",
              "      <td>ham</td>\n",
              "      <td>PLEASSSSSSSEEEEEE TEL ME V AVENT DONE SPORTSx</td>\n",
              "    </tr>\n",
              "    <tr>\n",
              "      <th>243</th>\n",
              "      <td>ham</td>\n",
              "      <td>Okay. No no, just shining on. That was meant to be signing, but that sounds better.</td>\n",
              "    </tr>\n",
              "    <tr>\n",
              "      <th>244</th>\n",
              "      <td>ham</td>\n",
              "      <td>Although i told u dat i'm into baig face watches now but i really like e watch u gave cos it's fr u. Thanx 4 everything dat u've done today, i'm touched...</td>\n",
              "    </tr>\n",
              "    <tr>\n",
              "      <th>245</th>\n",
              "      <td>ham</td>\n",
              "      <td>U don't remember that old commercial?</td>\n",
              "    </tr>\n",
              "    <tr>\n",
              "      <th>246</th>\n",
              "      <td>ham</td>\n",
              "      <td>Too late. I said i have the website. I didn't i have or dont have the slippers</td>\n",
              "    </tr>\n",
              "    <tr>\n",
              "      <th>247</th>\n",
              "      <td>ham</td>\n",
              "      <td>I asked you to call him now ok</td>\n",
              "    </tr>\n",
              "    <tr>\n",
              "      <th>248</th>\n",
              "      <td>ham</td>\n",
              "      <td>Kallis wont bat in 2nd innings.</td>\n",
              "    </tr>\n",
              "    <tr>\n",
              "      <th>249</th>\n",
              "      <td>ham</td>\n",
              "      <td>It didnt work again oh. Ok goodnight then. I.ll fix and have it ready by the time you wake up. You are very dearly missed have a good night sleep.</td>\n",
              "    </tr>\n",
              "  </tbody>\n",
              "</table>\n",
              "</div>"
            ],
            "text/plain": [
              "    CATEGORY  \\\n",
              "222  ham       \n",
              "223  ham       \n",
              "224  ham       \n",
              "225  spam      \n",
              "226  ham       \n",
              "227  spam      \n",
              "228  ham       \n",
              "229  ham       \n",
              "230  ham       \n",
              "231  ham       \n",
              "232  ham       \n",
              "233  ham       \n",
              "234  ham       \n",
              "235  spam      \n",
              "236  ham       \n",
              "237  ham       \n",
              "238  ham       \n",
              "239  ham       \n",
              "240  spam      \n",
              "241  ham       \n",
              "242  ham       \n",
              "243  ham       \n",
              "244  ham       \n",
              "245  ham       \n",
              "246  ham       \n",
              "247  ham       \n",
              "248  ham       \n",
              "249  ham       \n",
              "\n",
              "                                                                                                                                                                       SMS  \n",
              "222  There is os called ubandu which will run without installing in hard disk...you can use that os to copy the important files in system and give it to repair shop..      \n",
              "223  Sorry, I'll call later                                                                                                                                                 \n",
              "224  U say leh... Of course nothing happen lar. Not say v romantic jus a bit only lor. I thk e nite scenery not so nice leh.                                                \n",
              "225  500 New Mobiles from 2004, MUST GO! Txt: NOKIA to No: 89545 & collect yours today!From ONLY £1 www.4-tc.biz 2optout 087187262701.50gbp/mtmsg18                         \n",
              "226  Would really appreciate if you call me. Just need someone to talk to.                                                                                                  \n",
              "227  Will u meet ur dream partner soon? Is ur career off 2 a flyng start? 2 find out free, txt HORO followed by ur star sign, e. g. HORO ARIES                              \n",
              "228  Hey company elama po mudyadhu.                                                                                                                                         \n",
              "229  Life is more strict than teacher... Bcoz Teacher teaches lesson &amp; then conducts exam, But Life first conducts Exam &amp; then teaches Lessons. Happy morning. . .  \n",
              "230  Dear good morning now only i am up                                                                                                                                     \n",
              "231  Get down in gandhipuram and walk to cross cut road. Right side &lt;#&gt; street road and turn at first right.                                                          \n",
              "232  Dear we are going to our rubber place                                                                                                                                  \n",
              "233  Sorry battery died, yeah I'm here                                                                                                                                      \n",
              "234  Yes:)here tv is always available in work place..                                                                                                                       \n",
              "235  Text & meet someone sexy today. U can find a date or even flirt its up to U. Join 4 just 10p. REPLY with NAME & AGE eg Sam 25. 18 -msg recd@thirtyeight pence          \n",
              "236  I have printed it oh. So  &lt;#&gt;  come upstairs                                                                                                                     \n",
              "237  Or ill be a little closer like at the bus stop on the same street                                                                                                      \n",
              "238  Where are you?when wil you reach here?                                                                                                                                 \n",
              "239  New Theory: Argument wins d SITUATION, but loses the PERSON. So dont argue with ur friends just.. . . . kick them &amp; say, I'm always correct.!                      \n",
              "240  U 447801259231 have a secret admirer who is looking 2 make contact with U-find out who they R*reveal who thinks UR so special-call on 09058094597                      \n",
              "241  Tomarrow final hearing on my laptop case so i cant.                                                                                                                    \n",
              "242  PLEASSSSSSSEEEEEE TEL ME V AVENT DONE SPORTSx                                                                                                                          \n",
              "243  Okay. No no, just shining on. That was meant to be signing, but that sounds better.                                                                                    \n",
              "244  Although i told u dat i'm into baig face watches now but i really like e watch u gave cos it's fr u. Thanx 4 everything dat u've done today, i'm touched...            \n",
              "245  U don't remember that old commercial?                                                                                                                                  \n",
              "246  Too late. I said i have the website. I didn't i have or dont have the slippers                                                                                         \n",
              "247  I asked you to call him now ok                                                                                                                                         \n",
              "248  Kallis wont bat in 2nd innings.                                                                                                                                        \n",
              "249  It didnt work again oh. Ok goodnight then. I.ll fix and have it ready by the time you wake up. You are very dearly missed have a good night sleep.                     "
            ]
          },
          "execution_count": 115,
          "metadata": {},
          "output_type": "execute_result"
        }
      ],
      "source": [
        "df[222:250]"
      ]
    },
    {
      "cell_type": "code",
      "execution_count": 70,
      "metadata": {
        "colab": {
          "base_uri": "https://localhost:8080/"
        },
        "id": "kLos1LZbXDUw",
        "outputId": "b818ee9c-358a-404d-bac2-4bf141b08eb0"
      },
      "outputs": [
        {
          "name": "stdout",
          "output_type": "stream",
          "text": [
            "NR OF SAMPLES: 5574\n"
          ]
        }
      ],
      "source": [
        "print('NR OF SAMPLES:', len(df))"
      ]
    },
    {
      "cell_type": "code",
      "execution_count": 71,
      "metadata": {},
      "outputs": [
        {
          "data": {
            "text/html": [
              "<div>\n",
              "<style scoped>\n",
              "    .dataframe tbody tr th:only-of-type {\n",
              "        vertical-align: middle;\n",
              "    }\n",
              "\n",
              "    .dataframe tbody tr th {\n",
              "        vertical-align: top;\n",
              "    }\n",
              "\n",
              "    .dataframe thead th {\n",
              "        text-align: right;\n",
              "    }\n",
              "</style>\n",
              "<table border=\"1\" class=\"dataframe\">\n",
              "  <thead>\n",
              "    <tr style=\"text-align: right;\">\n",
              "      <th></th>\n",
              "      <th>CATEGORY</th>\n",
              "      <th>SMS</th>\n",
              "    </tr>\n",
              "  </thead>\n",
              "  <tbody>\n",
              "    <tr>\n",
              "      <th>2</th>\n",
              "      <td>spam</td>\n",
              "      <td>Free entry in 2 a wkly comp to win FA Cup fina...</td>\n",
              "    </tr>\n",
              "    <tr>\n",
              "      <th>5</th>\n",
              "      <td>spam</td>\n",
              "      <td>FreeMsg Hey there darling it's been 3 week's n...</td>\n",
              "    </tr>\n",
              "    <tr>\n",
              "      <th>8</th>\n",
              "      <td>spam</td>\n",
              "      <td>WINNER!! As a valued network customer you have...</td>\n",
              "    </tr>\n",
              "    <tr>\n",
              "      <th>9</th>\n",
              "      <td>spam</td>\n",
              "      <td>Had your mobile 11 months or more? U R entitle...</td>\n",
              "    </tr>\n",
              "    <tr>\n",
              "      <th>11</th>\n",
              "      <td>spam</td>\n",
              "      <td>SIX chances to win CASH! From 100 to 20,000 po...</td>\n",
              "    </tr>\n",
              "  </tbody>\n",
              "</table>\n",
              "</div>"
            ],
            "text/plain": [
              "   CATEGORY                                                SMS\n",
              "2      spam  Free entry in 2 a wkly comp to win FA Cup fina...\n",
              "5      spam  FreeMsg Hey there darling it's been 3 week's n...\n",
              "8      spam  WINNER!! As a valued network customer you have...\n",
              "9      spam  Had your mobile 11 months or more? U R entitle...\n",
              "11     spam  SIX chances to win CASH! From 100 to 20,000 po..."
            ]
          },
          "execution_count": 71,
          "metadata": {},
          "output_type": "execute_result"
        }
      ],
      "source": []
    },
    {
      "cell_type": "code",
      "execution_count": 94,
      "metadata": {},
      "outputs": [],
      "source": [
        "import re\n",
        "from collections import Counter\n",
        "\n",
        "# Get all sms where the label is spam\n",
        "spam = df[df['CATEGORY'] == 'spam']\n",
        "text = spam['SMS'].to_string(index=False)\n",
        "text = text.replace('\\n', ' ')\n",
        "text = re.sub(r'((?!\\w| ).)*', '', text)\n",
        "text = re.sub(r'\\s+', ' ', text)\n",
        "\n",
        "# Count unique words\n",
        "words = text.split(' ')"
      ]
    },
    {
      "cell_type": "code",
      "execution_count": 111,
      "metadata": {},
      "outputs": [
        {
          "name": "stdout",
          "output_type": "stream",
          "text": [
            "95 -> u\n",
            "89 -> is\n",
            "83 -> free\n",
            "81 -> ur\n",
            "73 -> call\n",
            "72 -> 2\n",
            "63 -> are\n",
            "57 -> urgent\n",
            "55 -> 4\n",
            "53 -> mobile\n",
            "40 -> win\n",
            "35 -> awarded\n",
            "35 -> nokia\n",
            "33 -> been\n",
            "33 -> contact\n",
            "32 -> won\n",
            "32 -> service\n",
            "30 -> 500\n",
            "28 -> customer\n",
            "27 -> 1\n"
          ]
        }
      ],
      "source": [
        "common_english_words = [\n",
        "  'the', 'be', 'to', 'of', 'and', 'a', 'in', 'that', 'have', \n",
        "  'I', 'it', 'for', 'not', 'on', 'with', 'he', 'as', 'you', \n",
        "  'do', 'at', 'this', 'but', 'his', 'by', 'from', 'they', \n",
        "  'we', 'say', 'her', 'she', 'or', 'will', 'an', 'my', \n",
        "  'one', 'all', 'would', 'there', 'their', 'what', 'so', \n",
        "  'up', 'out', 'if', 'about', 'who', 'get', 'which', 'go', \n",
        "  'when', 'me', 'make', 'can', 'like', 'time', 'no', 'just', \n",
        "  'him', 'know', 'take', 'person', 'into', 'year', 'your', \n",
        "  'good', 'some', 'could', 'them', 'see', 'other', 'than', \n",
        "  'then', 'now', 'look', 'only', 'come', 'its', 'over', \n",
        "  'think', 'also', 'back', 'after', 'use', 'two', 'how', \n",
        "  'our', 'work', 'first', 'well', 'way', 'even', 'new', \n",
        "  'want', 'because', 'any', 'these', 'give', 'day', 'most', \n",
        "  'us', 'over', 'new', 'sound', 'take', 'only', 'little', \n",
        "  'work', 'know', 'place', 'year', 'live', 'me', 'back', \n",
        "  'give', 'most', 'very', 'after', 'thing', 'our', 'just', \n",
        "  'name', 'good', 'sentence', 'man', 'think', 'say', 'great',\n",
        "  'where', 'help', 'through', 'much', 'before', 'line',\n",
        "  'right', 'too', 'mean', 'old', 'any', 'same', 'tell',\n",
        "  'boy', 'follow', 'came', 'want', 'show', 'also', 'around',\n",
        "  'form', 'three', 'small', 'set', 'put', 'end', 'does',\n",
        "  'another', 'well', 'large', 'must', 'big', 'even', 'such',\n",
        "  'because', 'turn', 'here', 'why', 'ask', 'went', 'men',\n",
        "  'read', 'need', 'land', 'different', 'home', 'us', 'move',\n",
        "  'try', 'kind', 'hand', 'picture', 'again', 'change',\n",
        "  'off', 'play', 'spell', 'air', 'away', 'animal', 'house',\n",
        "  'point', 'page', 'letter', 'mother', 'answer', 'found',\n",
        "  'study', 'still', 'learn', 'should', 'America', 'world'\n",
        "]\n",
        "\n",
        "common_english_words = [w.lower() for w in common_english_words]\n",
        "words = [w.lower() for w in words]\n",
        "\n",
        "most_spammy_words = [w for w in words if w not in common_english_words]\n",
        "\n",
        "top20 = Counter(most_spammy_words).most_common(20)\n",
        "for word, count in top20:\n",
        "  print(count, \"->\", word)"
      ]
    },
    {
      "cell_type": "code",
      "execution_count": 95,
      "metadata": {},
      "outputs": [
        {
          "data": {
            "image/png": "[encoded data removed]",
            "text/plain": [
              "<Figure size 432x288 with 1 Axes>"
            ]
          },
          "metadata": {},
          "output_type": "display_data"
        }
      ],
      "source": [
        "# Pie chart\n",
        "import matplotlib.pyplot as plt\n",
        "labels = 'Spam', 'Ham'\n",
        "sizes = [len(spamDf), len(df.loc[df['CATEGORY'] == 'ham'])]\n",
        "explode = (0, 0.1)  # only \"explode\" the 2nd slice\n",
        "\n",
        "fig1, ax1 = plt.subplots()\n",
        "ax1.pie(sizes, explode=explode, labels=labels, autopct='%1.1f%%',\n",
        "        shadow=True, startangle=90)\n",
        "ax1.axis('equal')  # Equal aspect ratio ensures that pie is drawn as a circle.\n",
        "\n",
        "plt.show()"
      ]
    },
    {
      "cell_type": "code",
      "execution_count": 73,
      "metadata": {
        "id": "FxdIJejHXco6"
      },
      "outputs": [],
      "source": [
        "#check for empty values ....   \n",
        "#df.isnull().sum()\n",
        "#df.info()\n",
        "# - invalid values?\n",
        "#df.dropna(inplace=True)  # will remove rows with NA"
      ]
    },
    {
      "cell_type": "code",
      "execution_count": 74,
      "metadata": {
        "id": "CRDFIiiPYdPR"
      },
      "outputs": [],
      "source": [
        "\n",
        "X = df['SMS']\n",
        "y = df['CATEGORY']"
      ]
    },
    {
      "cell_type": "code",
      "execution_count": 75,
      "metadata": {
        "colab": {
          "base_uri": "https://localhost:8080/"
        },
        "id": "7b4IaBNcgSe8",
        "outputId": "683e1575-ed2c-40ec-e86e-3d95f6d29a1e"
      },
      "outputs": [
        {
          "data": {
            "text/plain": [
              "array(['ham', 'spam', 'spam '], dtype=object)"
            ]
          },
          "execution_count": 75,
          "metadata": {},
          "output_type": "execute_result"
        }
      ],
      "source": [
        "#making sure that the y column has only two possible values\n",
        "print(y.unique())"
      ]
    },
    {
      "cell_type": "code",
      "execution_count": 76,
      "metadata": {
        "colab": {
          "base_uri": "https://localhost:8080/"
        },
        "id": "Kzv6qWlcgX_g",
        "outputId": "c4fd26dc-8a2b-449a-9042-7008d3f5ca02"
      },
      "outputs": [
        {
          "data": {
            "text/plain": [
              "array(['ham', 'spam'], dtype=object)"
            ]
          },
          "execution_count": 76,
          "metadata": {},
          "output_type": "execute_result"
        }
      ],
      "source": [
        "y = y.str.strip()\n",
        "y.unique()"
      ]
    },
    {
      "cell_type": "code",
      "execution_count": 77,
      "metadata": {
        "colab": {
          "base_uri": "https://localhost:8080/"
        },
        "id": "1Gx5_9klY_us",
        "outputId": "f13767c1-273e-4e0b-f2b3-9c28f249adfa"
      },
      "outputs": [
        {
          "data": {
            "text/plain": [
              "0    0\n",
              "1    0\n",
              "2    1\n",
              "3    0\n",
              "4    0\n",
              "Name: CATEGORY, dtype: object"
            ]
          },
          "execution_count": 77,
          "metadata": {},
          "output_type": "execute_result"
        }
      ],
      "source": [
        "#Transforming them to numerical values\n",
        "y[y == 'spam'] = 1\n",
        "y[y == 'ham'] = 0\n",
        "y[:5]"
      ]
    },
    {
      "cell_type": "code",
      "execution_count": 78,
      "metadata": {
        "id": "iRVq1gbLfk07"
      },
      "outputs": [],
      "source": [
        "import numpy as np\n",
        "y = np.asarray(y).astype(int)"
      ]
    },
    {
      "cell_type": "code",
      "execution_count": 79,
      "metadata": {
        "colab": {
          "base_uri": "https://localhost:8080/"
        },
        "id": "28eg4ClaarQT",
        "outputId": "e7eb320c-0f00-4ca0-91a4-c00e39a8a812"
      },
      "outputs": [
        {
          "name": "stdout",
          "output_type": "stream",
          "text": [
            "***** Nr of characters the longest content is:  910\n"
          ]
        }
      ],
      "source": [
        "print('***** Nr of characters the longest content is: ',\n",
        "max([len(x) for x in X]))"
      ]
    },
    {
      "cell_type": "code",
      "execution_count": 126,
      "metadata": {
        "id": "IzfWFU5scuVp"
      },
      "outputs": [],
      "source": [
        "#TODO DO A HISTORY WITH MESAGES LENGTH, MAYBE BY CATEGORY TOO! ! !\n",
        "# x_in_word_count = X.applymap(lambda sms : len(sms.split(' ')))\n",
        "# x_in_word_count"
      ]
    },
    {
      "cell_type": "code",
      "execution_count": 81,
      "metadata": {
        "colab": {
          "base_uri": "https://localhost:8080/"
        },
        "id": "r_dzy1TMcyAK",
        "outputId": "53a3954c-ab1b-4b22-c64b-f6929a5a4ed6"
      },
      "outputs": [
        {
          "data": {
            "text/plain": [
              "9009"
            ]
          },
          "execution_count": 81,
          "metadata": {},
          "output_type": "execute_result"
        }
      ],
      "source": [
        "from tensorflow.keras.preprocessing.text import Tokenizer\n",
        "\n",
        "tokenizer = Tokenizer()\n",
        "tokenizer.fit_on_texts(X)\n",
        "total_words = len(tokenizer.word_index) + 1\n",
        "total_words"
      ]
    },
    {
      "cell_type": "code",
      "execution_count": 82,
      "metadata": {
        "id": "NVKfw8yb67H3"
      },
      "outputs": [],
      "source": [
        "import pickle\n",
        "\n",
        "# saving\n",
        "with open('tokenizer.pickle', 'wb') as handle:\n",
        "    pickle.dump(tokenizer, handle, protocol=pickle.HIGHEST_PROTOCOL)"
      ]
    },
    {
      "cell_type": "code",
      "execution_count": 83,
      "metadata": {
        "colab": {
          "base_uri": "https://localhost:8080/"
        },
        "id": "nF9TzofkdMt9",
        "outputId": "9769d3f4-affe-40f7-a13f-2f9550487130"
      },
      "outputs": [
        {
          "data": {
            "text/plain": [
              "[[49,\n",
              "  471,\n",
              "  4434,\n",
              "  842,\n",
              "  755,\n",
              "  658,\n",
              "  64,\n",
              "  8,\n",
              "  1327,\n",
              "  88,\n",
              "  123,\n",
              "  351,\n",
              "  1328,\n",
              "  148,\n",
              "  2996,\n",
              "  1329,\n",
              "  67,\n",
              "  58,\n",
              "  4435,\n",
              "  144],\n",
              " [46, 336, 1499, 472, 6, 1940],\n",
              " [47,\n",
              "  489,\n",
              "  8,\n",
              "  19,\n",
              "  4,\n",
              "  797,\n",
              "  901,\n",
              "  2,\n",
              "  176,\n",
              "  1941,\n",
              "  1105,\n",
              "  659,\n",
              "  1942,\n",
              "  2331,\n",
              "  261,\n",
              "  2332,\n",
              "  71,\n",
              "  1941,\n",
              "  2,\n",
              "  1943,\n",
              "  2,\n",
              "  337,\n",
              "  489,\n",
              "  555,\n",
              "  960,\n",
              "  73,\n",
              "  391,\n",
              "  174,\n",
              "  660,\n",
              "  392,\n",
              "  2997]]"
            ]
          },
          "execution_count": 83,
          "metadata": {},
          "output_type": "execute_result"
        }
      ],
      "source": [
        "X = tokenizer.texts_to_sequences(X)\n",
        "X[:3]"
      ]
    },
    {
      "cell_type": "code",
      "execution_count": 84,
      "metadata": {
        "colab": {
          "base_uri": "https://localhost:8080/"
        },
        "id": "MYulbAbsdgQt",
        "outputId": "e09c74c6-d8a2-40e9-cc2a-e890f08e4c86"
      },
      "outputs": [
        {
          "name": "stdout",
          "output_type": "stream",
          "text": [
            "*****Max words in SMS: 189\n"
          ]
        },
        {
          "data": {
            "text/plain": [
              "array([   0,    0,    0,    0,    0,    0,    0,    0,    0,    0,    0,\n",
              "          0,    0,    0,    0,    0,    0,    0,    0,    0,    0,    0,\n",
              "          0,    0,    0,    0,    0,    0,    0,    0,    0,    0,    0,\n",
              "          0,    0,    0,    0,    0,    0,    0,    0,    0,    0,    0,\n",
              "          0,    0,    0,    0,    0,    0,    0,    0,    0,    0,    0,\n",
              "          0,    0,    0,    0,    0,    0,    0,    0,    0,    0,    0,\n",
              "          0,    0,    0,   47,  489,    8,   19,    4,  797,  901,    2,\n",
              "        176, 1941, 1105,  659, 1942, 2331,  261, 2332,   71, 1941,    2,\n",
              "       1943,    2,  337,  489,  555,  960,   73,  391,  174,  660,  392,\n",
              "       2997])"
            ]
          },
          "execution_count": 84,
          "metadata": {},
          "output_type": "execute_result"
        }
      ],
      "source": [
        "# pad content based on the longest SMS...\n",
        "max_SMS_len = max(len(x) for x in X)\n",
        "print('*****Max words in SMS:', max_SMS_len)\n",
        "\n",
        "from tensorflow.keras.preprocessing.sequence import pad_sequences\n",
        "X = pad_sequences(X, maxlen=100)\n",
        "X[2]"
      ]
    },
    {
      "cell_type": "code",
      "execution_count": 85,
      "metadata": {
        "colab": {
          "base_uri": "https://localhost:8080/"
        },
        "id": "Jn1pVTA0dvaJ",
        "outputId": "920b42ea-bcf6-4c7d-f707-fe3147ececc5"
      },
      "outputs": [
        {
          "name": "stdout",
          "output_type": "stream",
          "text": [
            "***** Shape of training samples:  (4459, 100)\n",
            "***** Shape of testing samples:  (1115, 100)\n"
          ]
        }
      ],
      "source": [
        "from sklearn.model_selection import train_test_split\n",
        "X_train, X_test, y_train, y_test = train_test_split(X, y, test_size = 0.2, random_state = 22)\n",
        "print('***** Shape of training samples: ', X_train.shape)\n",
        "print('***** Shape of testing samples: ', X_test.shape)"
      ]
    },
    {
      "cell_type": "code",
      "execution_count": 86,
      "metadata": {
        "id": "E84s1sy0d0b9"
      },
      "outputs": [],
      "source": [
        "from tensorflow.keras.layers import Embedding, LSTM, Dense\n",
        "from tensorflow.keras.models import Sequential\n",
        "from tensorflow.keras.optimizers import Adam\n",
        "\n",
        "model = Sequential()\n",
        "model.add(Embedding(9009, 128)) # 48998 distinct words, 128 neurons (columns in Excel)\n",
        "model.add(LSTM(128, dropout=0.3, recurrent_dropout=0.3))\n",
        "model.add(Dense(units=1, activation='sigmoid'))"
      ]
    },
    {
      "cell_type": "code",
      "execution_count": 87,
      "metadata": {
        "id": "y2gzgutLePyr"
      },
      "outputs": [],
      "source": [
        "model.compile(loss='binary_crossentropy', optimizer='adam', metrics=['accuracy'])"
      ]
    },
    {
      "cell_type": "code",
      "execution_count": 88,
      "metadata": {
        "colab": {
          "base_uri": "https://localhost:8080/"
        },
        "id": "Du92VomYeZXP",
        "outputId": "99328744-bbda-4319-8615-a1af3c40ed83"
      },
      "outputs": [
        {
          "name": "stdout",
          "output_type": "stream",
          "text": [
            "Epoch 1/3\n",
            "279/279 [==============================] - 70s 238ms/step - loss: 0.1150 - accuracy: 0.9621 - val_loss: 0.0521 - val_accuracy: 0.9892\n",
            "Epoch 2/3\n",
            "279/279 [==============================] - 65s 235ms/step - loss: 0.0171 - accuracy: 0.9948 - val_loss: 0.0533 - val_accuracy: 0.9874\n",
            "Epoch 3/3\n",
            "279/279 [==============================] - 68s 243ms/step - loss: 0.0070 - accuracy: 0.9980 - val_loss: 0.0475 - val_accuracy: 0.9892\n"
          ]
        },
        {
          "data": {
            "text/plain": [
              "<keras.callbacks.History at 0x1a79c977d30>"
            ]
          },
          "execution_count": 88,
          "metadata": {},
          "output_type": "execute_result"
        }
      ],
      "source": [
        "model.fit(X_train, y_train,\n",
        "          batch_size=16,\n",
        "          epochs=3,\n",
        "          verbose=1,\n",
        "          validation_data=(X_test, y_test))"
      ]
    },
    {
      "cell_type": "code",
      "execution_count": 89,
      "metadata": {
        "colab": {
          "base_uri": "https://localhost:8080/"
        },
        "id": "puWWJy5afC7q",
        "outputId": "5d559156-27b7-486c-aed7-c72fcc9f5d05"
      },
      "outputs": [
        {
          "name": "stdout",
          "output_type": "stream",
          "text": [
            "35/35 - 1s - loss: 0.0475 - accuracy: 0.9892 - 1s/epoch - 36ms/step\n",
            "Test score: 0.0475059412419796\n",
            "Test accuracy: 0.9892376661300659\n"
          ]
        }
      ],
      "source": [
        "score, acc = model.evaluate(X_test, y_test,\n",
        "                            batch_size=32,\n",
        "                            verbose=2)\n",
        "print('Test score:', score)\n",
        "print('Test accuracy:', acc)"
      ]
    },
    {
      "cell_type": "code",
      "execution_count": 90,
      "metadata": {
        "id": "4CkpFudGiBnx"
      },
      "outputs": [],
      "source": [
        "new_SMS = \"I am tired of doing the same things every day\"\n",
        "new_SMS = tokenizer.texts_to_sequences([new_SMS])\n",
        "new_SMS = pad_sequences(new_SMS, maxlen=100)"
      ]
    },
    {
      "cell_type": "code",
      "execution_count": 91,
      "metadata": {
        "colab": {
          "base_uri": "https://localhost:8080/"
        },
        "id": "1tFZ4aPEiRuB",
        "outputId": "bf084fac-aa12-41ba-c583-d747d5d94c6c"
      },
      "outputs": [
        {
          "data": {
            "text/plain": [
              "array([[0.00077218]], dtype=float32)"
            ]
          },
          "execution_count": 91,
          "metadata": {},
          "output_type": "execute_result"
        }
      ],
      "source": [
        "result = model.predict(new_SMS)\n",
        "result"
      ]
    },
    {
      "cell_type": "code",
      "execution_count": 92,
      "metadata": {
        "colab": {
          "base_uri": "https://localhost:8080/"
        },
        "id": "hhH6LjoCiwVU",
        "outputId": "0812de9c-48c9-480f-e13f-1578f6e75e23"
      },
      "outputs": [
        {
          "name": "stdout",
          "output_type": "stream",
          "text": [
            "[[0.46541274]]\n"
          ]
        }
      ],
      "source": [
        "new_SPAM = \"500 fresh burguers MUST GO! Txt: KING to No: 220022\"\n",
        "new_SPAM = tokenizer.texts_to_sequences([new_SPAM])\n",
        "#print(new_SPAM)\n",
        "new_SPAM = pad_sequences(new_SPAM, maxlen=100)\n",
        "result = model.predict(new_SPAM)\n",
        "print(result)"
      ]
    },
    {
      "cell_type": "code",
      "execution_count": 93,
      "metadata": {
        "id": "H0P77L6hjXiB"
      },
      "outputs": [],
      "source": [
        "model.save(\"model.h5\")"
      ]
    }
  ],
  "metadata": {
    "colab": {
      "collapsed_sections": [],
      "name": "SMShamOrSpam.ipynb",
      "provenance": []
    },
    "interpreter": {
      "hash": "369f2c481f4da34e4445cda3fffd2e751bd1c4d706f27375911949ba6bb62e1c"
    },
    "kernelspec": {
      "display_name": "Python 3.10.4 64-bit",
      "language": "python",
      "name": "python3"
    },
    "language_info": {
      "codemirror_mode": {
        "name": "ipython",
        "version": 3
      },
      "file_extension": ".py",
      "mimetype": "text/x-python",
      "name": "python",
      "nbconvert_exporter": "python",
      "pygments_lexer": "ipython3",
      "version": "3.10.4"
    }
  },
  "nbformat": 4,
  "nbformat_minor": 0
}
